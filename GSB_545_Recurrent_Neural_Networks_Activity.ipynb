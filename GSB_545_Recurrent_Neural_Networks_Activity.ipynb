{
  "nbformat": 4,
  "nbformat_minor": 0,
  "metadata": {
    "colab": {
      "name": "GSB 545 Recurrent Neural Networks Activity",
      "provenance": [],
      "mount_file_id": "1e3XetnDkDNnBRbwIaQMuUTKb7E-48fy0",
      "authorship_tag": "ABX9TyMwzKwtAub3kepLoZpbsFtT",
      "include_colab_link": true
    },
    "kernelspec": {
      "name": "python3",
      "display_name": "Python 3"
    },
    "language_info": {
      "name": "python"
    }
  },
  "cells": [
    {
      "cell_type": "markdown",
      "metadata": {
        "id": "view-in-github",
        "colab_type": "text"
      },
      "source": [
        "<a href=\"https://colab.research.google.com/github/aakhavi/Machine-Learning-in-Python/blob/main/GSB_545_Recurrent_Neural_Networks_Activity.ipynb\" target=\"_parent\"><img src=\"https://colab.research.google.com/assets/colab-badge.svg\" alt=\"Open In Colab\"/></a>"
      ]
    },
    {
      "cell_type": "markdown",
      "source": [
        "# GSB 545 Recurrent Neural Networks Activity\n",
        "# Arash Akhavi\n",
        "# 5/16/2022"
      ],
      "metadata": {
        "id": "Z5z6d8FnupDn"
      }
    },
    {
      "cell_type": "code",
      "execution_count": null,
      "metadata": {
        "id": "ZFFlBcltui-q"
      },
      "outputs": [],
      "source": [
        "import pandas as pd\n",
        "import numpy as np\n",
        "import sklearn \n",
        "import tensorflow as tf\n",
        "from tensorflow import keras\n",
        "from tensorflow.keras import layers\n",
        "from numpy import mean\n",
        "from numpy import std\n",
        "from keras.models import Sequential\n",
        "from keras.layers import SimpleRNN, Dense, Flatten, TimeDistributed, LSTM\n",
        "from sklearn.preprocessing import MinMaxScaler\n",
        "from sklearn.metrics import mean_squared_error\n",
        "from sklearn.preprocessing import LabelEncoder\n",
        "from sklearn.model_selection import train_test_split\n",
        "import math\n",
        "import matplotlib.pyplot as plt"
      ]
    },
    {
      "cell_type": "code",
      "source": [
        "# read in data\n",
        "data = pd.read_csv(\"/content/drive/MyDrive/GSB 545 Data/ma_lga_12345.csv\")\n",
        "data.head()"
      ],
      "metadata": {
        "id": "jUQBqggLu2Kt",
        "colab": {
          "base_uri": "https://localhost:8080/",
          "height": 206
        },
        "outputId": "00dbd98a-3994-4188-d057-f125657bd9cf"
      },
      "execution_count": null,
      "outputs": [
        {
          "output_type": "execute_result",
          "data": {
            "text/plain": [
              "     saledate      MA   type  bedrooms\n",
              "0  30/09/2007  441854  house         2\n",
              "1  31/12/2007  441854  house         2\n",
              "2  31/03/2008  441854  house         2\n",
              "3  30/06/2008  441854  house         2\n",
              "4  30/09/2008  451583  house         2"
            ],
            "text/html": [
              "\n",
              "  <div id=\"df-06543bb1-94e6-4052-90dc-9e9baa8a098d\">\n",
              "    <div class=\"colab-df-container\">\n",
              "      <div>\n",
              "<style scoped>\n",
              "    .dataframe tbody tr th:only-of-type {\n",
              "        vertical-align: middle;\n",
              "    }\n",
              "\n",
              "    .dataframe tbody tr th {\n",
              "        vertical-align: top;\n",
              "    }\n",
              "\n",
              "    .dataframe thead th {\n",
              "        text-align: right;\n",
              "    }\n",
              "</style>\n",
              "<table border=\"1\" class=\"dataframe\">\n",
              "  <thead>\n",
              "    <tr style=\"text-align: right;\">\n",
              "      <th></th>\n",
              "      <th>saledate</th>\n",
              "      <th>MA</th>\n",
              "      <th>type</th>\n",
              "      <th>bedrooms</th>\n",
              "    </tr>\n",
              "  </thead>\n",
              "  <tbody>\n",
              "    <tr>\n",
              "      <th>0</th>\n",
              "      <td>30/09/2007</td>\n",
              "      <td>441854</td>\n",
              "      <td>house</td>\n",
              "      <td>2</td>\n",
              "    </tr>\n",
              "    <tr>\n",
              "      <th>1</th>\n",
              "      <td>31/12/2007</td>\n",
              "      <td>441854</td>\n",
              "      <td>house</td>\n",
              "      <td>2</td>\n",
              "    </tr>\n",
              "    <tr>\n",
              "      <th>2</th>\n",
              "      <td>31/03/2008</td>\n",
              "      <td>441854</td>\n",
              "      <td>house</td>\n",
              "      <td>2</td>\n",
              "    </tr>\n",
              "    <tr>\n",
              "      <th>3</th>\n",
              "      <td>30/06/2008</td>\n",
              "      <td>441854</td>\n",
              "      <td>house</td>\n",
              "      <td>2</td>\n",
              "    </tr>\n",
              "    <tr>\n",
              "      <th>4</th>\n",
              "      <td>30/09/2008</td>\n",
              "      <td>451583</td>\n",
              "      <td>house</td>\n",
              "      <td>2</td>\n",
              "    </tr>\n",
              "  </tbody>\n",
              "</table>\n",
              "</div>\n",
              "      <button class=\"colab-df-convert\" onclick=\"convertToInteractive('df-06543bb1-94e6-4052-90dc-9e9baa8a098d')\"\n",
              "              title=\"Convert this dataframe to an interactive table.\"\n",
              "              style=\"display:none;\">\n",
              "        \n",
              "  <svg xmlns=\"http://www.w3.org/2000/svg\" height=\"24px\"viewBox=\"0 0 24 24\"\n",
              "       width=\"24px\">\n",
              "    <path d=\"M0 0h24v24H0V0z\" fill=\"none\"/>\n",
              "    <path d=\"M18.56 5.44l.94 2.06.94-2.06 2.06-.94-2.06-.94-.94-2.06-.94 2.06-2.06.94zm-11 1L8.5 8.5l.94-2.06 2.06-.94-2.06-.94L8.5 2.5l-.94 2.06-2.06.94zm10 10l.94 2.06.94-2.06 2.06-.94-2.06-.94-.94-2.06-.94 2.06-2.06.94z\"/><path d=\"M17.41 7.96l-1.37-1.37c-.4-.4-.92-.59-1.43-.59-.52 0-1.04.2-1.43.59L10.3 9.45l-7.72 7.72c-.78.78-.78 2.05 0 2.83L4 21.41c.39.39.9.59 1.41.59.51 0 1.02-.2 1.41-.59l7.78-7.78 2.81-2.81c.8-.78.8-2.07 0-2.86zM5.41 20L4 18.59l7.72-7.72 1.47 1.35L5.41 20z\"/>\n",
              "  </svg>\n",
              "      </button>\n",
              "      \n",
              "  <style>\n",
              "    .colab-df-container {\n",
              "      display:flex;\n",
              "      flex-wrap:wrap;\n",
              "      gap: 12px;\n",
              "    }\n",
              "\n",
              "    .colab-df-convert {\n",
              "      background-color: #E8F0FE;\n",
              "      border: none;\n",
              "      border-radius: 50%;\n",
              "      cursor: pointer;\n",
              "      display: none;\n",
              "      fill: #1967D2;\n",
              "      height: 32px;\n",
              "      padding: 0 0 0 0;\n",
              "      width: 32px;\n",
              "    }\n",
              "\n",
              "    .colab-df-convert:hover {\n",
              "      background-color: #E2EBFA;\n",
              "      box-shadow: 0px 1px 2px rgba(60, 64, 67, 0.3), 0px 1px 3px 1px rgba(60, 64, 67, 0.15);\n",
              "      fill: #174EA6;\n",
              "    }\n",
              "\n",
              "    [theme=dark] .colab-df-convert {\n",
              "      background-color: #3B4455;\n",
              "      fill: #D2E3FC;\n",
              "    }\n",
              "\n",
              "    [theme=dark] .colab-df-convert:hover {\n",
              "      background-color: #434B5C;\n",
              "      box-shadow: 0px 1px 3px 1px rgba(0, 0, 0, 0.15);\n",
              "      filter: drop-shadow(0px 1px 2px rgba(0, 0, 0, 0.3));\n",
              "      fill: #FFFFFF;\n",
              "    }\n",
              "  </style>\n",
              "\n",
              "      <script>\n",
              "        const buttonEl =\n",
              "          document.querySelector('#df-06543bb1-94e6-4052-90dc-9e9baa8a098d button.colab-df-convert');\n",
              "        buttonEl.style.display =\n",
              "          google.colab.kernel.accessAllowed ? 'block' : 'none';\n",
              "\n",
              "        async function convertToInteractive(key) {\n",
              "          const element = document.querySelector('#df-06543bb1-94e6-4052-90dc-9e9baa8a098d');\n",
              "          const dataTable =\n",
              "            await google.colab.kernel.invokeFunction('convertToInteractive',\n",
              "                                                     [key], {});\n",
              "          if (!dataTable) return;\n",
              "\n",
              "          const docLinkHtml = 'Like what you see? Visit the ' +\n",
              "            '<a target=\"_blank\" href=https://colab.research.google.com/notebooks/data_table.ipynb>data table notebook</a>'\n",
              "            + ' to learn more about interactive tables.';\n",
              "          element.innerHTML = '';\n",
              "          dataTable['output_type'] = 'display_data';\n",
              "          await google.colab.output.renderOutput(dataTable, element);\n",
              "          const docLink = document.createElement('div');\n",
              "          docLink.innerHTML = docLinkHtml;\n",
              "          element.appendChild(docLink);\n",
              "        }\n",
              "      </script>\n",
              "    </div>\n",
              "  </div>\n",
              "  "
            ]
          },
          "metadata": {},
          "execution_count": 122
        }
      ]
    },
    {
      "cell_type": "code",
      "source": [
        "data.columns"
      ],
      "metadata": {
        "colab": {
          "base_uri": "https://localhost:8080/"
        },
        "id": "jcK9cM8RfFXW",
        "outputId": "f70893fb-35a6-4b46-ea53-327d25250f6d"
      },
      "execution_count": null,
      "outputs": [
        {
          "output_type": "execute_result",
          "data": {
            "text/plain": [
              "Index(['saledate', 'MA', 'type', 'bedrooms'], dtype='object')"
            ]
          },
          "metadata": {},
          "execution_count": 123
        }
      ]
    },
    {
      "cell_type": "markdown",
      "source": [
        "# Data Prepreation"
      ],
      "metadata": {
        "id": "J6af2Fl_k59F"
      }
    },
    {
      "cell_type": "code",
      "source": [
        "# scale MA for RNN\n",
        "scaler = MinMaxScaler()\n",
        "data[['MA', 'bedrooms']] = scaler.fit_transform(data[['MA', 'bedrooms']])\n",
        "data.head()"
      ],
      "metadata": {
        "colab": {
          "base_uri": "https://localhost:8080/",
          "height": 206
        },
        "id": "rRlQ1f1ukKB9",
        "outputId": "66fa76f3-e608-4020-d9e0-d1c99c1d7809"
      },
      "execution_count": null,
      "outputs": [
        {
          "output_type": "execute_result",
          "data": {
            "text/plain": [
              "     saledate        MA   type  bedrooms\n",
              "0  30/09/2007  0.178463  house      0.25\n",
              "1  31/12/2007  0.178463  house      0.25\n",
              "2  31/03/2008  0.178463  house      0.25\n",
              "3  30/06/2008  0.178463  house      0.25\n",
              "4  30/09/2008  0.192342  house      0.25"
            ],
            "text/html": [
              "\n",
              "  <div id=\"df-acfef84d-9bdd-4f52-9bba-07c7913c1930\">\n",
              "    <div class=\"colab-df-container\">\n",
              "      <div>\n",
              "<style scoped>\n",
              "    .dataframe tbody tr th:only-of-type {\n",
              "        vertical-align: middle;\n",
              "    }\n",
              "\n",
              "    .dataframe tbody tr th {\n",
              "        vertical-align: top;\n",
              "    }\n",
              "\n",
              "    .dataframe thead th {\n",
              "        text-align: right;\n",
              "    }\n",
              "</style>\n",
              "<table border=\"1\" class=\"dataframe\">\n",
              "  <thead>\n",
              "    <tr style=\"text-align: right;\">\n",
              "      <th></th>\n",
              "      <th>saledate</th>\n",
              "      <th>MA</th>\n",
              "      <th>type</th>\n",
              "      <th>bedrooms</th>\n",
              "    </tr>\n",
              "  </thead>\n",
              "  <tbody>\n",
              "    <tr>\n",
              "      <th>0</th>\n",
              "      <td>30/09/2007</td>\n",
              "      <td>0.178463</td>\n",
              "      <td>house</td>\n",
              "      <td>0.25</td>\n",
              "    </tr>\n",
              "    <tr>\n",
              "      <th>1</th>\n",
              "      <td>31/12/2007</td>\n",
              "      <td>0.178463</td>\n",
              "      <td>house</td>\n",
              "      <td>0.25</td>\n",
              "    </tr>\n",
              "    <tr>\n",
              "      <th>2</th>\n",
              "      <td>31/03/2008</td>\n",
              "      <td>0.178463</td>\n",
              "      <td>house</td>\n",
              "      <td>0.25</td>\n",
              "    </tr>\n",
              "    <tr>\n",
              "      <th>3</th>\n",
              "      <td>30/06/2008</td>\n",
              "      <td>0.178463</td>\n",
              "      <td>house</td>\n",
              "      <td>0.25</td>\n",
              "    </tr>\n",
              "    <tr>\n",
              "      <th>4</th>\n",
              "      <td>30/09/2008</td>\n",
              "      <td>0.192342</td>\n",
              "      <td>house</td>\n",
              "      <td>0.25</td>\n",
              "    </tr>\n",
              "  </tbody>\n",
              "</table>\n",
              "</div>\n",
              "      <button class=\"colab-df-convert\" onclick=\"convertToInteractive('df-acfef84d-9bdd-4f52-9bba-07c7913c1930')\"\n",
              "              title=\"Convert this dataframe to an interactive table.\"\n",
              "              style=\"display:none;\">\n",
              "        \n",
              "  <svg xmlns=\"http://www.w3.org/2000/svg\" height=\"24px\"viewBox=\"0 0 24 24\"\n",
              "       width=\"24px\">\n",
              "    <path d=\"M0 0h24v24H0V0z\" fill=\"none\"/>\n",
              "    <path d=\"M18.56 5.44l.94 2.06.94-2.06 2.06-.94-2.06-.94-.94-2.06-.94 2.06-2.06.94zm-11 1L8.5 8.5l.94-2.06 2.06-.94-2.06-.94L8.5 2.5l-.94 2.06-2.06.94zm10 10l.94 2.06.94-2.06 2.06-.94-2.06-.94-.94-2.06-.94 2.06-2.06.94z\"/><path d=\"M17.41 7.96l-1.37-1.37c-.4-.4-.92-.59-1.43-.59-.52 0-1.04.2-1.43.59L10.3 9.45l-7.72 7.72c-.78.78-.78 2.05 0 2.83L4 21.41c.39.39.9.59 1.41.59.51 0 1.02-.2 1.41-.59l7.78-7.78 2.81-2.81c.8-.78.8-2.07 0-2.86zM5.41 20L4 18.59l7.72-7.72 1.47 1.35L5.41 20z\"/>\n",
              "  </svg>\n",
              "      </button>\n",
              "      \n",
              "  <style>\n",
              "    .colab-df-container {\n",
              "      display:flex;\n",
              "      flex-wrap:wrap;\n",
              "      gap: 12px;\n",
              "    }\n",
              "\n",
              "    .colab-df-convert {\n",
              "      background-color: #E8F0FE;\n",
              "      border: none;\n",
              "      border-radius: 50%;\n",
              "      cursor: pointer;\n",
              "      display: none;\n",
              "      fill: #1967D2;\n",
              "      height: 32px;\n",
              "      padding: 0 0 0 0;\n",
              "      width: 32px;\n",
              "    }\n",
              "\n",
              "    .colab-df-convert:hover {\n",
              "      background-color: #E2EBFA;\n",
              "      box-shadow: 0px 1px 2px rgba(60, 64, 67, 0.3), 0px 1px 3px 1px rgba(60, 64, 67, 0.15);\n",
              "      fill: #174EA6;\n",
              "    }\n",
              "\n",
              "    [theme=dark] .colab-df-convert {\n",
              "      background-color: #3B4455;\n",
              "      fill: #D2E3FC;\n",
              "    }\n",
              "\n",
              "    [theme=dark] .colab-df-convert:hover {\n",
              "      background-color: #434B5C;\n",
              "      box-shadow: 0px 1px 3px 1px rgba(0, 0, 0, 0.15);\n",
              "      filter: drop-shadow(0px 1px 2px rgba(0, 0, 0, 0.3));\n",
              "      fill: #FFFFFF;\n",
              "    }\n",
              "  </style>\n",
              "\n",
              "      <script>\n",
              "        const buttonEl =\n",
              "          document.querySelector('#df-acfef84d-9bdd-4f52-9bba-07c7913c1930 button.colab-df-convert');\n",
              "        buttonEl.style.display =\n",
              "          google.colab.kernel.accessAllowed ? 'block' : 'none';\n",
              "\n",
              "        async function convertToInteractive(key) {\n",
              "          const element = document.querySelector('#df-acfef84d-9bdd-4f52-9bba-07c7913c1930');\n",
              "          const dataTable =\n",
              "            await google.colab.kernel.invokeFunction('convertToInteractive',\n",
              "                                                     [key], {});\n",
              "          if (!dataTable) return;\n",
              "\n",
              "          const docLinkHtml = 'Like what you see? Visit the ' +\n",
              "            '<a target=\"_blank\" href=https://colab.research.google.com/notebooks/data_table.ipynb>data table notebook</a>'\n",
              "            + ' to learn more about interactive tables.';\n",
              "          element.innerHTML = '';\n",
              "          dataTable['output_type'] = 'display_data';\n",
              "          await google.colab.output.renderOutput(dataTable, element);\n",
              "          const docLink = document.createElement('div');\n",
              "          docLink.innerHTML = docLinkHtml;\n",
              "          element.appendChild(docLink);\n",
              "        }\n",
              "      </script>\n",
              "    </div>\n",
              "  </div>\n",
              "  "
            ]
          },
          "metadata": {},
          "execution_count": 124
        }
      ]
    },
    {
      "cell_type": "code",
      "source": [
        "# create dummy varaibles for 'type' house & unit\n",
        "def label_encode(data, variable_list):\n",
        "  for i in variable_list:\n",
        "    data[i] = LabelEncoder().fit(data[i]).transform(data[i])\n",
        "  return data"
      ],
      "metadata": {
        "id": "fU66Ayg3lDwg"
      },
      "execution_count": null,
      "outputs": []
    },
    {
      "cell_type": "code",
      "source": [
        "var = ['type']\n",
        "data = label_encode(data, var)\n",
        "data.head()"
      ],
      "metadata": {
        "colab": {
          "base_uri": "https://localhost:8080/",
          "height": 206
        },
        "id": "A9efRrAMlLd7",
        "outputId": "66e2a7d5-d322-4eb0-93ab-dbd10c546249"
      },
      "execution_count": null,
      "outputs": [
        {
          "output_type": "execute_result",
          "data": {
            "text/plain": [
              "     saledate        MA  type  bedrooms\n",
              "0  30/09/2007  0.178463     0      0.25\n",
              "1  31/12/2007  0.178463     0      0.25\n",
              "2  31/03/2008  0.178463     0      0.25\n",
              "3  30/06/2008  0.178463     0      0.25\n",
              "4  30/09/2008  0.192342     0      0.25"
            ],
            "text/html": [
              "\n",
              "  <div id=\"df-842f7e68-d4e3-44b8-8bcb-da2c9a432ed5\">\n",
              "    <div class=\"colab-df-container\">\n",
              "      <div>\n",
              "<style scoped>\n",
              "    .dataframe tbody tr th:only-of-type {\n",
              "        vertical-align: middle;\n",
              "    }\n",
              "\n",
              "    .dataframe tbody tr th {\n",
              "        vertical-align: top;\n",
              "    }\n",
              "\n",
              "    .dataframe thead th {\n",
              "        text-align: right;\n",
              "    }\n",
              "</style>\n",
              "<table border=\"1\" class=\"dataframe\">\n",
              "  <thead>\n",
              "    <tr style=\"text-align: right;\">\n",
              "      <th></th>\n",
              "      <th>saledate</th>\n",
              "      <th>MA</th>\n",
              "      <th>type</th>\n",
              "      <th>bedrooms</th>\n",
              "    </tr>\n",
              "  </thead>\n",
              "  <tbody>\n",
              "    <tr>\n",
              "      <th>0</th>\n",
              "      <td>30/09/2007</td>\n",
              "      <td>0.178463</td>\n",
              "      <td>0</td>\n",
              "      <td>0.25</td>\n",
              "    </tr>\n",
              "    <tr>\n",
              "      <th>1</th>\n",
              "      <td>31/12/2007</td>\n",
              "      <td>0.178463</td>\n",
              "      <td>0</td>\n",
              "      <td>0.25</td>\n",
              "    </tr>\n",
              "    <tr>\n",
              "      <th>2</th>\n",
              "      <td>31/03/2008</td>\n",
              "      <td>0.178463</td>\n",
              "      <td>0</td>\n",
              "      <td>0.25</td>\n",
              "    </tr>\n",
              "    <tr>\n",
              "      <th>3</th>\n",
              "      <td>30/06/2008</td>\n",
              "      <td>0.178463</td>\n",
              "      <td>0</td>\n",
              "      <td>0.25</td>\n",
              "    </tr>\n",
              "    <tr>\n",
              "      <th>4</th>\n",
              "      <td>30/09/2008</td>\n",
              "      <td>0.192342</td>\n",
              "      <td>0</td>\n",
              "      <td>0.25</td>\n",
              "    </tr>\n",
              "  </tbody>\n",
              "</table>\n",
              "</div>\n",
              "      <button class=\"colab-df-convert\" onclick=\"convertToInteractive('df-842f7e68-d4e3-44b8-8bcb-da2c9a432ed5')\"\n",
              "              title=\"Convert this dataframe to an interactive table.\"\n",
              "              style=\"display:none;\">\n",
              "        \n",
              "  <svg xmlns=\"http://www.w3.org/2000/svg\" height=\"24px\"viewBox=\"0 0 24 24\"\n",
              "       width=\"24px\">\n",
              "    <path d=\"M0 0h24v24H0V0z\" fill=\"none\"/>\n",
              "    <path d=\"M18.56 5.44l.94 2.06.94-2.06 2.06-.94-2.06-.94-.94-2.06-.94 2.06-2.06.94zm-11 1L8.5 8.5l.94-2.06 2.06-.94-2.06-.94L8.5 2.5l-.94 2.06-2.06.94zm10 10l.94 2.06.94-2.06 2.06-.94-2.06-.94-.94-2.06-.94 2.06-2.06.94z\"/><path d=\"M17.41 7.96l-1.37-1.37c-.4-.4-.92-.59-1.43-.59-.52 0-1.04.2-1.43.59L10.3 9.45l-7.72 7.72c-.78.78-.78 2.05 0 2.83L4 21.41c.39.39.9.59 1.41.59.51 0 1.02-.2 1.41-.59l7.78-7.78 2.81-2.81c.8-.78.8-2.07 0-2.86zM5.41 20L4 18.59l7.72-7.72 1.47 1.35L5.41 20z\"/>\n",
              "  </svg>\n",
              "      </button>\n",
              "      \n",
              "  <style>\n",
              "    .colab-df-container {\n",
              "      display:flex;\n",
              "      flex-wrap:wrap;\n",
              "      gap: 12px;\n",
              "    }\n",
              "\n",
              "    .colab-df-convert {\n",
              "      background-color: #E8F0FE;\n",
              "      border: none;\n",
              "      border-radius: 50%;\n",
              "      cursor: pointer;\n",
              "      display: none;\n",
              "      fill: #1967D2;\n",
              "      height: 32px;\n",
              "      padding: 0 0 0 0;\n",
              "      width: 32px;\n",
              "    }\n",
              "\n",
              "    .colab-df-convert:hover {\n",
              "      background-color: #E2EBFA;\n",
              "      box-shadow: 0px 1px 2px rgba(60, 64, 67, 0.3), 0px 1px 3px 1px rgba(60, 64, 67, 0.15);\n",
              "      fill: #174EA6;\n",
              "    }\n",
              "\n",
              "    [theme=dark] .colab-df-convert {\n",
              "      background-color: #3B4455;\n",
              "      fill: #D2E3FC;\n",
              "    }\n",
              "\n",
              "    [theme=dark] .colab-df-convert:hover {\n",
              "      background-color: #434B5C;\n",
              "      box-shadow: 0px 1px 3px 1px rgba(0, 0, 0, 0.15);\n",
              "      filter: drop-shadow(0px 1px 2px rgba(0, 0, 0, 0.3));\n",
              "      fill: #FFFFFF;\n",
              "    }\n",
              "  </style>\n",
              "\n",
              "      <script>\n",
              "        const buttonEl =\n",
              "          document.querySelector('#df-842f7e68-d4e3-44b8-8bcb-da2c9a432ed5 button.colab-df-convert');\n",
              "        buttonEl.style.display =\n",
              "          google.colab.kernel.accessAllowed ? 'block' : 'none';\n",
              "\n",
              "        async function convertToInteractive(key) {\n",
              "          const element = document.querySelector('#df-842f7e68-d4e3-44b8-8bcb-da2c9a432ed5');\n",
              "          const dataTable =\n",
              "            await google.colab.kernel.invokeFunction('convertToInteractive',\n",
              "                                                     [key], {});\n",
              "          if (!dataTable) return;\n",
              "\n",
              "          const docLinkHtml = 'Like what you see? Visit the ' +\n",
              "            '<a target=\"_blank\" href=https://colab.research.google.com/notebooks/data_table.ipynb>data table notebook</a>'\n",
              "            + ' to learn more about interactive tables.';\n",
              "          element.innerHTML = '';\n",
              "          dataTable['output_type'] = 'display_data';\n",
              "          await google.colab.output.renderOutput(dataTable, element);\n",
              "          const docLink = document.createElement('div');\n",
              "          docLink.innerHTML = docLinkHtml;\n",
              "          element.appendChild(docLink);\n",
              "        }\n",
              "      </script>\n",
              "    </div>\n",
              "  </div>\n",
              "  "
            ]
          },
          "metadata": {},
          "execution_count": 126
        }
      ]
    },
    {
      "cell_type": "code",
      "source": [
        "# change 'saledate' to date_time\n",
        "data['saledate'] = pd.to_datetime(data['saledate'])\n",
        "data"
      ],
      "metadata": {
        "colab": {
          "base_uri": "https://localhost:8080/",
          "height": 424
        },
        "id": "J5lxsOkxlhBF",
        "outputId": "16803716-715f-4999-c2a3-8266865ab61a"
      },
      "execution_count": null,
      "outputs": [
        {
          "output_type": "execute_result",
          "data": {
            "text/plain": [
              "      saledate        MA  type  bedrooms\n",
              "0   2007-09-30  0.178463     0      0.25\n",
              "1   2007-12-31  0.178463     0      0.25\n",
              "2   2008-03-31  0.178463     0      0.25\n",
              "3   2008-06-30  0.178463     0      0.25\n",
              "4   2008-09-30  0.192342     0      0.25\n",
              "..         ...       ...   ...       ...\n",
              "342 2018-09-30  0.408744     1      0.50\n",
              "343 2018-12-31  0.405728     1      0.50\n",
              "344 2019-03-31  0.412105     1      0.50\n",
              "345 2019-06-30  0.403121     1      0.50\n",
              "346 2019-09-30  0.401045     1      0.50\n",
              "\n",
              "[347 rows x 4 columns]"
            ],
            "text/html": [
              "\n",
              "  <div id=\"df-d6d875b2-0b2a-4c98-8c72-b81d72adeabb\">\n",
              "    <div class=\"colab-df-container\">\n",
              "      <div>\n",
              "<style scoped>\n",
              "    .dataframe tbody tr th:only-of-type {\n",
              "        vertical-align: middle;\n",
              "    }\n",
              "\n",
              "    .dataframe tbody tr th {\n",
              "        vertical-align: top;\n",
              "    }\n",
              "\n",
              "    .dataframe thead th {\n",
              "        text-align: right;\n",
              "    }\n",
              "</style>\n",
              "<table border=\"1\" class=\"dataframe\">\n",
              "  <thead>\n",
              "    <tr style=\"text-align: right;\">\n",
              "      <th></th>\n",
              "      <th>saledate</th>\n",
              "      <th>MA</th>\n",
              "      <th>type</th>\n",
              "      <th>bedrooms</th>\n",
              "    </tr>\n",
              "  </thead>\n",
              "  <tbody>\n",
              "    <tr>\n",
              "      <th>0</th>\n",
              "      <td>2007-09-30</td>\n",
              "      <td>0.178463</td>\n",
              "      <td>0</td>\n",
              "      <td>0.25</td>\n",
              "    </tr>\n",
              "    <tr>\n",
              "      <th>1</th>\n",
              "      <td>2007-12-31</td>\n",
              "      <td>0.178463</td>\n",
              "      <td>0</td>\n",
              "      <td>0.25</td>\n",
              "    </tr>\n",
              "    <tr>\n",
              "      <th>2</th>\n",
              "      <td>2008-03-31</td>\n",
              "      <td>0.178463</td>\n",
              "      <td>0</td>\n",
              "      <td>0.25</td>\n",
              "    </tr>\n",
              "    <tr>\n",
              "      <th>3</th>\n",
              "      <td>2008-06-30</td>\n",
              "      <td>0.178463</td>\n",
              "      <td>0</td>\n",
              "      <td>0.25</td>\n",
              "    </tr>\n",
              "    <tr>\n",
              "      <th>4</th>\n",
              "      <td>2008-09-30</td>\n",
              "      <td>0.192342</td>\n",
              "      <td>0</td>\n",
              "      <td>0.25</td>\n",
              "    </tr>\n",
              "    <tr>\n",
              "      <th>...</th>\n",
              "      <td>...</td>\n",
              "      <td>...</td>\n",
              "      <td>...</td>\n",
              "      <td>...</td>\n",
              "    </tr>\n",
              "    <tr>\n",
              "      <th>342</th>\n",
              "      <td>2018-09-30</td>\n",
              "      <td>0.408744</td>\n",
              "      <td>1</td>\n",
              "      <td>0.50</td>\n",
              "    </tr>\n",
              "    <tr>\n",
              "      <th>343</th>\n",
              "      <td>2018-12-31</td>\n",
              "      <td>0.405728</td>\n",
              "      <td>1</td>\n",
              "      <td>0.50</td>\n",
              "    </tr>\n",
              "    <tr>\n",
              "      <th>344</th>\n",
              "      <td>2019-03-31</td>\n",
              "      <td>0.412105</td>\n",
              "      <td>1</td>\n",
              "      <td>0.50</td>\n",
              "    </tr>\n",
              "    <tr>\n",
              "      <th>345</th>\n",
              "      <td>2019-06-30</td>\n",
              "      <td>0.403121</td>\n",
              "      <td>1</td>\n",
              "      <td>0.50</td>\n",
              "    </tr>\n",
              "    <tr>\n",
              "      <th>346</th>\n",
              "      <td>2019-09-30</td>\n",
              "      <td>0.401045</td>\n",
              "      <td>1</td>\n",
              "      <td>0.50</td>\n",
              "    </tr>\n",
              "  </tbody>\n",
              "</table>\n",
              "<p>347 rows × 4 columns</p>\n",
              "</div>\n",
              "      <button class=\"colab-df-convert\" onclick=\"convertToInteractive('df-d6d875b2-0b2a-4c98-8c72-b81d72adeabb')\"\n",
              "              title=\"Convert this dataframe to an interactive table.\"\n",
              "              style=\"display:none;\">\n",
              "        \n",
              "  <svg xmlns=\"http://www.w3.org/2000/svg\" height=\"24px\"viewBox=\"0 0 24 24\"\n",
              "       width=\"24px\">\n",
              "    <path d=\"M0 0h24v24H0V0z\" fill=\"none\"/>\n",
              "    <path d=\"M18.56 5.44l.94 2.06.94-2.06 2.06-.94-2.06-.94-.94-2.06-.94 2.06-2.06.94zm-11 1L8.5 8.5l.94-2.06 2.06-.94-2.06-.94L8.5 2.5l-.94 2.06-2.06.94zm10 10l.94 2.06.94-2.06 2.06-.94-2.06-.94-.94-2.06-.94 2.06-2.06.94z\"/><path d=\"M17.41 7.96l-1.37-1.37c-.4-.4-.92-.59-1.43-.59-.52 0-1.04.2-1.43.59L10.3 9.45l-7.72 7.72c-.78.78-.78 2.05 0 2.83L4 21.41c.39.39.9.59 1.41.59.51 0 1.02-.2 1.41-.59l7.78-7.78 2.81-2.81c.8-.78.8-2.07 0-2.86zM5.41 20L4 18.59l7.72-7.72 1.47 1.35L5.41 20z\"/>\n",
              "  </svg>\n",
              "      </button>\n",
              "      \n",
              "  <style>\n",
              "    .colab-df-container {\n",
              "      display:flex;\n",
              "      flex-wrap:wrap;\n",
              "      gap: 12px;\n",
              "    }\n",
              "\n",
              "    .colab-df-convert {\n",
              "      background-color: #E8F0FE;\n",
              "      border: none;\n",
              "      border-radius: 50%;\n",
              "      cursor: pointer;\n",
              "      display: none;\n",
              "      fill: #1967D2;\n",
              "      height: 32px;\n",
              "      padding: 0 0 0 0;\n",
              "      width: 32px;\n",
              "    }\n",
              "\n",
              "    .colab-df-convert:hover {\n",
              "      background-color: #E2EBFA;\n",
              "      box-shadow: 0px 1px 2px rgba(60, 64, 67, 0.3), 0px 1px 3px 1px rgba(60, 64, 67, 0.15);\n",
              "      fill: #174EA6;\n",
              "    }\n",
              "\n",
              "    [theme=dark] .colab-df-convert {\n",
              "      background-color: #3B4455;\n",
              "      fill: #D2E3FC;\n",
              "    }\n",
              "\n",
              "    [theme=dark] .colab-df-convert:hover {\n",
              "      background-color: #434B5C;\n",
              "      box-shadow: 0px 1px 3px 1px rgba(0, 0, 0, 0.15);\n",
              "      filter: drop-shadow(0px 1px 2px rgba(0, 0, 0, 0.3));\n",
              "      fill: #FFFFFF;\n",
              "    }\n",
              "  </style>\n",
              "\n",
              "      <script>\n",
              "        const buttonEl =\n",
              "          document.querySelector('#df-d6d875b2-0b2a-4c98-8c72-b81d72adeabb button.colab-df-convert');\n",
              "        buttonEl.style.display =\n",
              "          google.colab.kernel.accessAllowed ? 'block' : 'none';\n",
              "\n",
              "        async function convertToInteractive(key) {\n",
              "          const element = document.querySelector('#df-d6d875b2-0b2a-4c98-8c72-b81d72adeabb');\n",
              "          const dataTable =\n",
              "            await google.colab.kernel.invokeFunction('convertToInteractive',\n",
              "                                                     [key], {});\n",
              "          if (!dataTable) return;\n",
              "\n",
              "          const docLinkHtml = 'Like what you see? Visit the ' +\n",
              "            '<a target=\"_blank\" href=https://colab.research.google.com/notebooks/data_table.ipynb>data table notebook</a>'\n",
              "            + ' to learn more about interactive tables.';\n",
              "          element.innerHTML = '';\n",
              "          dataTable['output_type'] = 'display_data';\n",
              "          await google.colab.output.renderOutput(dataTable, element);\n",
              "          const docLink = document.createElement('div');\n",
              "          docLink.innerHTML = docLinkHtml;\n",
              "          element.appendChild(docLink);\n",
              "        }\n",
              "      </script>\n",
              "    </div>\n",
              "  </div>\n",
              "  "
            ]
          },
          "metadata": {},
          "execution_count": 127
        }
      ]
    },
    {
      "cell_type": "markdown",
      "source": [
        "We will only be using the price variable for the RNN time series prediction."
      ],
      "metadata": {
        "id": "fuffBLxn7q3X"
      }
    },
    {
      "cell_type": "code",
      "source": [
        "# define response and predictors\n",
        "data = data['MA']"
      ],
      "metadata": {
        "id": "JfCJxk50pVc3"
      },
      "execution_count": null,
      "outputs": []
    },
    {
      "cell_type": "code",
      "source": [
        "data"
      ],
      "metadata": {
        "colab": {
          "base_uri": "https://localhost:8080/"
        },
        "id": "8OY47QbH2Vtw",
        "outputId": "e67722df-2fca-4769-b0b1-52f7f23d7a0e"
      },
      "execution_count": null,
      "outputs": [
        {
          "output_type": "execute_result",
          "data": {
            "text/plain": [
              "0      0.178463\n",
              "1      0.178463\n",
              "2      0.178463\n",
              "3      0.178463\n",
              "4      0.192342\n",
              "         ...   \n",
              "342    0.408744\n",
              "343    0.405728\n",
              "344    0.412105\n",
              "345    0.403121\n",
              "346    0.401045\n",
              "Name: MA, Length: 347, dtype: float64"
            ]
          },
          "metadata": {},
          "execution_count": 129
        }
      ]
    },
    {
      "cell_type": "code",
      "source": [
        "def create_RNN(hidden_units, dense_units, input_shape, activation):\n",
        "    model = Sequential()\n",
        "    model.add(SimpleRNN(hidden_units, input_shape=input_shape, \n",
        "                        activation=activation[0]))\n",
        "    model.add(Dense(units=dense_units, activation=activation[1]))\n",
        "    model.compile(loss='mean_squared_error', optimizer='adam')\n",
        "    return model"
      ],
      "metadata": {
        "id": "If7n4iQl_pGM"
      },
      "execution_count": null,
      "outputs": []
    },
    {
      "cell_type": "code",
      "source": [
        "# Parameter split_percent defines the ratio of training examples\n",
        "def get_train_test(data, split_percent=0.8):\n",
        "    data = np.array(data.values.astype('float32'))\n",
        "    #data = scaler.fit_transform(data).flatten()\n",
        "    n = len(data)\n",
        "    # Point for splitting data into train and test\n",
        "    split = int(n*split_percent)\n",
        "    train_data = data[range(split)]\n",
        "    test_data = data[split:]\n",
        "    return train_data, test_data"
      ],
      "metadata": {
        "id": "MYNEbgN5yAot"
      },
      "execution_count": null,
      "outputs": []
    },
    {
      "cell_type": "code",
      "source": [
        "train_data, test_data = get_train_test(data, split_percent=0.8)"
      ],
      "metadata": {
        "id": "R3X5g7kx2PXV"
      },
      "execution_count": null,
      "outputs": []
    },
    {
      "cell_type": "code",
      "source": [
        "def get_XY(data, time_steps):\n",
        "    # Indices of target array\n",
        "    Y_ind = np.arange(time_steps, len(data), time_steps)\n",
        "    Y = data[Y_ind]\n",
        "    # Prepare X\n",
        "    rows_x = len(Y)\n",
        "    X = data[range(time_steps*rows_x)]\n",
        "    print(X.shape)\n",
        "    print(rows_x)\n",
        "    X = np.reshape(X, (rows_x, time_steps, 1))    \n",
        "    return X, Y"
      ],
      "metadata": {
        "id": "56L96YHludgo"
      },
      "execution_count": null,
      "outputs": []
    },
    {
      "cell_type": "code",
      "source": [
        "time_steps = 2\n",
        "trainX, trainY = get_XY(train_data, time_steps)\n",
        "testX, testY = get_XY(test_data, time_steps)"
      ],
      "metadata": {
        "colab": {
          "base_uri": "https://localhost:8080/"
        },
        "id": "rU7Oz62A3lcR",
        "outputId": "99e000e7-6f53-4903-d977-a4869822d17d"
      },
      "execution_count": null,
      "outputs": [
        {
          "output_type": "stream",
          "name": "stdout",
          "text": [
            "(276,)\n",
            "138\n",
            "(68,)\n",
            "34\n"
          ]
        }
      ]
    },
    {
      "cell_type": "markdown",
      "source": [
        "# Simple RNN Model 1\n",
        "\n",
        "\n"
      ],
      "metadata": {
        "id": "URFI8a85oaJD"
      }
    },
    {
      "cell_type": "code",
      "source": [
        "model1 = create_RNN(hidden_units=3, dense_units=1, input_shape=(time_steps,1), \n",
        "                   activation=['tanh', 'tanh'])\n",
        "model1.fit(trainX, trainY, epochs=20, batch_size=1, verbose=2)"
      ],
      "metadata": {
        "colab": {
          "base_uri": "https://localhost:8080/"
        },
        "id": "R5BRxdYkmcYn",
        "outputId": "891efbc9-5aaa-46ec-b39e-3990d12929d4"
      },
      "execution_count": null,
      "outputs": [
        {
          "output_type": "stream",
          "name": "stdout",
          "text": [
            "Epoch 1/20\n",
            "138/138 - 2s - loss: 0.3606 - 2s/epoch - 13ms/step\n",
            "Epoch 2/20\n",
            "138/138 - 0s - loss: 0.1054 - 235ms/epoch - 2ms/step\n",
            "Epoch 3/20\n",
            "138/138 - 0s - loss: 0.0631 - 214ms/epoch - 2ms/step\n",
            "Epoch 4/20\n",
            "138/138 - 0s - loss: 0.0441 - 230ms/epoch - 2ms/step\n",
            "Epoch 5/20\n",
            "138/138 - 0s - loss: 0.0321 - 226ms/epoch - 2ms/step\n",
            "Epoch 6/20\n",
            "138/138 - 0s - loss: 0.0244 - 226ms/epoch - 2ms/step\n",
            "Epoch 7/20\n",
            "138/138 - 0s - loss: 0.0186 - 216ms/epoch - 2ms/step\n",
            "Epoch 8/20\n",
            "138/138 - 0s - loss: 0.0149 - 219ms/epoch - 2ms/step\n",
            "Epoch 9/20\n",
            "138/138 - 0s - loss: 0.0121 - 214ms/epoch - 2ms/step\n",
            "Epoch 10/20\n",
            "138/138 - 0s - loss: 0.0103 - 220ms/epoch - 2ms/step\n",
            "Epoch 11/20\n",
            "138/138 - 0s - loss: 0.0090 - 220ms/epoch - 2ms/step\n",
            "Epoch 12/20\n",
            "138/138 - 0s - loss: 0.0081 - 211ms/epoch - 2ms/step\n",
            "Epoch 13/20\n",
            "138/138 - 0s - loss: 0.0076 - 223ms/epoch - 2ms/step\n",
            "Epoch 14/20\n",
            "138/138 - 0s - loss: 0.0073 - 222ms/epoch - 2ms/step\n",
            "Epoch 15/20\n",
            "138/138 - 0s - loss: 0.0071 - 215ms/epoch - 2ms/step\n",
            "Epoch 16/20\n",
            "138/138 - 0s - loss: 0.0070 - 213ms/epoch - 2ms/step\n",
            "Epoch 17/20\n",
            "138/138 - 0s - loss: 0.0069 - 223ms/epoch - 2ms/step\n",
            "Epoch 18/20\n",
            "138/138 - 0s - loss: 0.0069 - 223ms/epoch - 2ms/step\n",
            "Epoch 19/20\n",
            "138/138 - 0s - loss: 0.0068 - 218ms/epoch - 2ms/step\n",
            "Epoch 20/20\n",
            "138/138 - 0s - loss: 0.0068 - 245ms/epoch - 2ms/step\n"
          ]
        },
        {
          "output_type": "execute_result",
          "data": {
            "text/plain": [
              "<keras.callbacks.History at 0x7f921d76c210>"
            ]
          },
          "metadata": {},
          "execution_count": 150
        }
      ]
    },
    {
      "cell_type": "code",
      "source": [
        "def print_error(trainY, testY, train_predict, test_predict):    \n",
        "    # Error of predictions\n",
        "    train_rmse = math.sqrt(mean_squared_error(trainY, train_predict))\n",
        "    test_rmse = math.sqrt(mean_squared_error(testY, test_predict))\n",
        "    # Print RMSE\n",
        "    print('Train RMSE: %.3f RMSE' % (train_rmse))\n",
        "    print('Test RMSE: %.3f RMSE' % (test_rmse))    "
      ],
      "metadata": {
        "id": "x2O4DhYJ5KgD"
      },
      "execution_count": null,
      "outputs": []
    },
    {
      "cell_type": "code",
      "source": [
        "# make predictions\n",
        "train_predict = model1.predict(trainX)\n",
        "test_predict = model1.predict(testX)\n",
        "# Mean square error\n",
        "print_error(trainY, testY, train_predict, test_predict)"
      ],
      "metadata": {
        "colab": {
          "base_uri": "https://localhost:8080/"
        },
        "id": "e6tr3ByB5Quh",
        "outputId": "d4f831a2-c1b7-45c1-eaee-339b9bc84a55"
      },
      "execution_count": null,
      "outputs": [
        {
          "output_type": "stream",
          "name": "stdout",
          "text": [
            "Train RMSE: 0.082 RMSE\n",
            "Test RMSE: 0.019 RMSE\n"
          ]
        }
      ]
    },
    {
      "cell_type": "code",
      "source": [
        "def plot_result(trainY, testY, train_predict, test_predict):\n",
        "    actual = np.append(trainY, testY)\n",
        "    predictions = np.append(train_predict, test_predict)\n",
        "    rows = len(actual)\n",
        "    plt.figure(figsize=(15, 6), dpi=80)\n",
        "    plt.plot(range(rows), actual)\n",
        "    plt.plot(range(rows), predictions)\n",
        "    plt.axvline(x=len(trainY), color='r')\n",
        "    plt.legend(['Actual', 'Predictions'])\n",
        "    plt.xlabel('Observation number after given time steps')\n",
        "    plt.ylabel('Price scaled')\n",
        "    plt.title('Actual and Predicted Values. The Red Line Separates The Training And Test Examples')"
      ],
      "metadata": {
        "id": "XBh1Nv0A5ZOL"
      },
      "execution_count": null,
      "outputs": []
    },
    {
      "cell_type": "code",
      "source": [
        "plot_result(trainY, testY, train_predict, test_predict)"
      ],
      "metadata": {
        "colab": {
          "base_uri": "https://localhost:8080/",
          "height": 444
        },
        "id": "dn1Qfoyp5cEl",
        "outputId": "472fefa0-3055-4ae0-c741-571d02da4a7d"
      },
      "execution_count": null,
      "outputs": [
        {
          "output_type": "display_data",
          "data": {
            "text/plain": [
              "<Figure size 1200x480 with 1 Axes>"
            ],
            "image/png": "[encoded data removed]"
          },
          "metadata": {
            "needs_background": "light"
          }
        }
      ]
    },
    {
      "cell_type": "markdown",
      "source": [
        "After attempting a model we can now change the parameters and look at different train test splits and time steps"
      ],
      "metadata": {
        "id": "E0Ty_Fj_5wPL"
      }
    },
    {
      "cell_type": "markdown",
      "source": [
        "# Simple RNN Model 2"
      ],
      "metadata": {
        "id": "ISbs55pq53lH"
      }
    },
    {
      "cell_type": "code",
      "source": [
        "train_data, test_data = get_train_test(data, split_percent=0.5)"
      ],
      "metadata": {
        "id": "n_YivURX55oR"
      },
      "execution_count": null,
      "outputs": []
    },
    {
      "cell_type": "code",
      "source": [
        "time_steps = 4\n",
        "trainX, trainY = get_XY(train_data, time_steps)\n",
        "testX, testY = get_XY(test_data, time_steps)"
      ],
      "metadata": {
        "colab": {
          "base_uri": "https://localhost:8080/"
        },
        "id": "1Z2MVvPp59xw",
        "outputId": "134925c1-259f-464b-f144-8224888c2907"
      },
      "execution_count": null,
      "outputs": [
        {
          "output_type": "stream",
          "name": "stdout",
          "text": [
            "(172,)\n",
            "43\n",
            "(172,)\n",
            "43\n"
          ]
        }
      ]
    },
    {
      "cell_type": "code",
      "source": [
        "model2 = create_RNN(hidden_units=3, dense_units=1, input_shape=(time_steps,1), \n",
        "                   activation=['tanh', 'tanh'])\n",
        "model2.fit(trainX, trainY, epochs=20, batch_size=1, verbose=2)"
      ],
      "metadata": {
        "colab": {
          "base_uri": "https://localhost:8080/"
        },
        "id": "nznE_lI56CLv",
        "outputId": "30a21e89-b3bd-4106-a3dc-f577236db312"
      },
      "execution_count": null,
      "outputs": [
        {
          "output_type": "stream",
          "name": "stdout",
          "text": [
            "Epoch 1/20\n",
            "43/43 - 2s - loss: 0.0417 - 2s/epoch - 39ms/step\n",
            "Epoch 2/20\n",
            "43/43 - 0s - loss: 0.0045 - 117ms/epoch - 3ms/step\n",
            "Epoch 3/20\n",
            "43/43 - 0s - loss: 0.0024 - 123ms/epoch - 3ms/step\n",
            "Epoch 4/20\n",
            "43/43 - 0s - loss: 0.0023 - 119ms/epoch - 3ms/step\n",
            "Epoch 5/20\n",
            "43/43 - 0s - loss: 0.0023 - 128ms/epoch - 3ms/step\n",
            "Epoch 6/20\n",
            "43/43 - 0s - loss: 0.0023 - 119ms/epoch - 3ms/step\n",
            "Epoch 7/20\n",
            "43/43 - 0s - loss: 0.0023 - 117ms/epoch - 3ms/step\n",
            "Epoch 8/20\n",
            "43/43 - 0s - loss: 0.0022 - 121ms/epoch - 3ms/step\n",
            "Epoch 9/20\n",
            "43/43 - 0s - loss: 0.0021 - 109ms/epoch - 3ms/step\n",
            "Epoch 10/20\n",
            "43/43 - 0s - loss: 0.0022 - 119ms/epoch - 3ms/step\n",
            "Epoch 11/20\n",
            "43/43 - 0s - loss: 0.0021 - 135ms/epoch - 3ms/step\n",
            "Epoch 12/20\n",
            "43/43 - 0s - loss: 0.0021 - 133ms/epoch - 3ms/step\n",
            "Epoch 13/20\n",
            "43/43 - 0s - loss: 0.0021 - 108ms/epoch - 3ms/step\n",
            "Epoch 14/20\n",
            "43/43 - 0s - loss: 0.0020 - 109ms/epoch - 3ms/step\n",
            "Epoch 15/20\n",
            "43/43 - 0s - loss: 0.0019 - 106ms/epoch - 2ms/step\n",
            "Epoch 16/20\n",
            "43/43 - 0s - loss: 0.0023 - 113ms/epoch - 3ms/step\n",
            "Epoch 17/20\n",
            "43/43 - 0s - loss: 0.0020 - 115ms/epoch - 3ms/step\n",
            "Epoch 18/20\n",
            "43/43 - 0s - loss: 0.0019 - 109ms/epoch - 3ms/step\n",
            "Epoch 19/20\n",
            "43/43 - 0s - loss: 0.0020 - 130ms/epoch - 3ms/step\n",
            "Epoch 20/20\n",
            "43/43 - 0s - loss: 0.0019 - 117ms/epoch - 3ms/step\n"
          ]
        },
        {
          "output_type": "execute_result",
          "data": {
            "text/plain": [
              "<keras.callbacks.History at 0x7f921e28bc50>"
            ]
          },
          "metadata": {},
          "execution_count": 160
        }
      ]
    },
    {
      "cell_type": "code",
      "source": [
        "# make predictions\n",
        "train_predict = model2.predict(trainX)\n",
        "test_predict = model2.predict(testX)\n",
        "# Mean square error\n",
        "print_error(trainY, testY, train_predict, test_predict)"
      ],
      "metadata": {
        "colab": {
          "base_uri": "https://localhost:8080/"
        },
        "id": "9ZNbIJkX6PNh",
        "outputId": "e93aa03c-a8f0-44b0-8a54-08929890bbbf"
      },
      "execution_count": null,
      "outputs": [
        {
          "output_type": "stream",
          "name": "stdout",
          "text": [
            "Train RMSE: 0.042 RMSE\n",
            "Test RMSE: 0.118 RMSE\n"
          ]
        }
      ]
    },
    {
      "cell_type": "code",
      "source": [
        "plot_result(trainY, testY, train_predict, test_predict)"
      ],
      "metadata": {
        "colab": {
          "base_uri": "https://localhost:8080/",
          "height": 444
        },
        "id": "xYJPorbg6UOw",
        "outputId": "668f9355-ae07-4067-be8f-4b9337bed938"
      },
      "execution_count": null,
      "outputs": [
        {
          "output_type": "display_data",
          "data": {
            "text/plain": [
              "<Figure size 1200x480 with 1 Axes>"
            ],
            "image/png": "[encoded data removed]"
          },
          "metadata": {
            "needs_background": "light"
          }
        }
      ]
    },
    {
      "cell_type": "markdown",
      "source": [
        "In this model we lowered the split between the train and test from 0.8 to 0.5. We can see there is a bigger gap between the actual and predicted results. "
      ],
      "metadata": {
        "id": "Oti_hdkV6foz"
      }
    },
    {
      "cell_type": "markdown",
      "source": [
        "# Simple RNN Model 3"
      ],
      "metadata": {
        "id": "WYRqSh9e61eY"
      }
    },
    {
      "cell_type": "code",
      "source": [
        "train_data, test_data = get_train_test(data, split_percent=0.75)"
      ],
      "metadata": {
        "id": "HtYwZOx-6059"
      },
      "execution_count": null,
      "outputs": []
    },
    {
      "cell_type": "code",
      "source": [
        "time_steps = 6\n",
        "trainX, trainY = get_XY(train_data, time_steps)\n",
        "testX, testY = get_XY(test_data, time_steps)"
      ],
      "metadata": {
        "colab": {
          "base_uri": "https://localhost:8080/"
        },
        "id": "TZ6Y_qkv67_F",
        "outputId": "ffced10b-85f4-4559-bfd7-d94d43e5886c"
      },
      "execution_count": null,
      "outputs": [
        {
          "output_type": "stream",
          "name": "stdout",
          "text": [
            "(258,)\n",
            "43\n",
            "(84,)\n",
            "14\n"
          ]
        }
      ]
    },
    {
      "cell_type": "code",
      "source": [
        "model3 = create_RNN(hidden_units=3, dense_units=1, input_shape=(time_steps,1), \n",
        "                   activation=['tanh', 'tanh'])\n",
        "model3.fit(trainX, trainY, epochs=20, batch_size=1, verbose=2)"
      ],
      "metadata": {
        "colab": {
          "base_uri": "https://localhost:8080/"
        },
        "id": "r7z8zVOQ6_Ze",
        "outputId": "609cefa1-c9f6-4208-8822-c00c555f2c5f"
      },
      "execution_count": null,
      "outputs": [
        {
          "output_type": "stream",
          "name": "stdout",
          "text": [
            "Epoch 1/20\n",
            "43/43 - 2s - loss: 0.1151 - 2s/epoch - 47ms/step\n",
            "Epoch 2/20\n",
            "43/43 - 0s - loss: 0.0473 - 156ms/epoch - 4ms/step\n",
            "Epoch 3/20\n",
            "43/43 - 0s - loss: 0.0215 - 146ms/epoch - 3ms/step\n",
            "Epoch 4/20\n",
            "43/43 - 0s - loss: 0.0150 - 129ms/epoch - 3ms/step\n",
            "Epoch 5/20\n",
            "43/43 - 0s - loss: 0.0132 - 137ms/epoch - 3ms/step\n",
            "Epoch 6/20\n",
            "43/43 - 0s - loss: 0.0120 - 160ms/epoch - 4ms/step\n",
            "Epoch 7/20\n",
            "43/43 - 0s - loss: 0.0110 - 132ms/epoch - 3ms/step\n",
            "Epoch 8/20\n",
            "43/43 - 0s - loss: 0.0099 - 147ms/epoch - 3ms/step\n",
            "Epoch 9/20\n",
            "43/43 - 0s - loss: 0.0090 - 147ms/epoch - 3ms/step\n",
            "Epoch 10/20\n",
            "43/43 - 0s - loss: 0.0083 - 200ms/epoch - 5ms/step\n",
            "Epoch 11/20\n",
            "43/43 - 0s - loss: 0.0075 - 130ms/epoch - 3ms/step\n",
            "Epoch 12/20\n",
            "43/43 - 0s - loss: 0.0070 - 163ms/epoch - 4ms/step\n",
            "Epoch 13/20\n",
            "43/43 - 0s - loss: 0.0065 - 168ms/epoch - 4ms/step\n",
            "Epoch 14/20\n",
            "43/43 - 0s - loss: 0.0060 - 143ms/epoch - 3ms/step\n",
            "Epoch 15/20\n",
            "43/43 - 0s - loss: 0.0057 - 148ms/epoch - 3ms/step\n",
            "Epoch 16/20\n",
            "43/43 - 0s - loss: 0.0052 - 157ms/epoch - 4ms/step\n",
            "Epoch 17/20\n",
            "43/43 - 0s - loss: 0.0050 - 142ms/epoch - 3ms/step\n",
            "Epoch 18/20\n",
            "43/43 - 0s - loss: 0.0046 - 137ms/epoch - 3ms/step\n",
            "Epoch 19/20\n",
            "43/43 - 0s - loss: 0.0044 - 173ms/epoch - 4ms/step\n",
            "Epoch 20/20\n",
            "43/43 - 0s - loss: 0.0041 - 245ms/epoch - 6ms/step\n"
          ]
        },
        {
          "output_type": "execute_result",
          "data": {
            "text/plain": [
              "<keras.callbacks.History at 0x7f921f11fe50>"
            ]
          },
          "metadata": {},
          "execution_count": 165
        }
      ]
    },
    {
      "cell_type": "code",
      "source": [
        "# make predictions\n",
        "train_predict = model3.predict(trainX)\n",
        "test_predict = model3.predict(testX)\n",
        "# Mean square error\n",
        "print_error(trainY, testY, train_predict, test_predict)"
      ],
      "metadata": {
        "colab": {
          "base_uri": "https://localhost:8080/"
        },
        "id": "10hUG2uP7EeK",
        "outputId": "39fb32f1-2484-4c65-df94-165929118797"
      },
      "execution_count": null,
      "outputs": [
        {
          "output_type": "stream",
          "name": "stdout",
          "text": [
            "Train RMSE: 0.062 RMSE\n",
            "Test RMSE: 0.026 RMSE\n"
          ]
        }
      ]
    },
    {
      "cell_type": "code",
      "source": [
        "plot_result(trainY, testY, train_predict, test_predict)"
      ],
      "metadata": {
        "colab": {
          "base_uri": "https://localhost:8080/",
          "height": 444
        },
        "id": "RdMzNNVs7GcC",
        "outputId": "4591e910-af74-46d1-8169-67005a7514bd"
      },
      "execution_count": null,
      "outputs": [
        {
          "output_type": "display_data",
          "data": {
            "text/plain": [
              "<Figure size 1200x480 with 1 Axes>"
            ],
            "image/png": "[encoded data removed]"
          },
          "metadata": {
            "needs_background": "light"
          }
        }
      ]
    },
    {
      "cell_type": "markdown",
      "source": [
        "In this model we increased the split back to 0.75 which is closer to the original 0.8 split. We also increased the time steps to 6 from the original 2. The RSME was 0.026 in this model which is better than model 2 but worse than the original model (0.019) which is likely due to a combination of the train test split and the time steps. "
      ],
      "metadata": {
        "id": "8vNx4L7K7J0Z"
      }
    }
  ]
}