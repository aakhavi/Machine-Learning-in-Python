{
  "nbformat": 4,
  "nbformat_minor": 0,
  "metadata": {
    "colab": {
      "name": "GSB 545 AdaBoosting Activity",
      "provenance": [],
      "mount_file_id": "1phmPbZsGsQrnD0fZUP3dnbUUR7L3oUj_",
      "authorship_tag": "ABX9TyPIEKONrSiSxveky8kdh21G",
      "include_colab_link": true
    },
    "kernelspec": {
      "name": "python3",
      "display_name": "Python 3"
    },
    "language_info": {
      "name": "python"
    }
  },
  "cells": [
    {
      "cell_type": "markdown",
      "metadata": {
        "id": "view-in-github",
        "colab_type": "text"
      },
      "source": [
        "<a href=\"https://colab.research.google.com/github/aakhavi/Machine-Learning-in-Python/blob/main/GSB_545_AdaBoosting_Activity.ipynb\" target=\"_parent\"><img src=\"https://colab.research.google.com/assets/colab-badge.svg\" alt=\"Open In Colab\"/></a>"
      ]
    },
    {
      "cell_type": "markdown",
      "source": [
        "# Arash Akhavi\n",
        "#AdaBoosting Activity\n",
        "# 4/18/2022"
      ],
      "metadata": {
        "id": "-3PgYhMZZ3NF"
      }
    },
    {
      "cell_type": "code",
      "source": [
        "import pandas as pd\n",
        "import numpy as np\n",
        "import sklearn \n",
        "import matplotlib.pyplot as plt\n",
        "from matplotlib import style\n",
        "style.use('fivethirtyeight')\n",
        "from sklearn.tree import DecisionTreeClassifier\n",
        "from sklearn.preprocessing import LabelEncoder\n",
        "from sklearn.model_selection import cross_validate\n",
        "import scipy.stats as sps\n",
        "from numpy import mean\n",
        "from numpy import std\n",
        "from sklearn.datasets import make_regression\n",
        "from sklearn.model_selection import cross_val_score\n",
        "from sklearn.model_selection import RepeatedKFold\n",
        "from sklearn.linear_model import LinearRegression\n",
        "from sklearn.neighbors import KNeighborsRegressor\n",
        "from sklearn.tree import DecisionTreeRegressor\n",
        "from sklearn.svm import SVR\n",
        "from sklearn.ensemble import StackingRegressor\n",
        "from matplotlib import pyplot"
      ],
      "metadata": {
        "id": "KHA6dZ-2alcF"
      },
      "execution_count": null,
      "outputs": []
    },
    {
      "cell_type": "code",
      "source": [
        "data = pd.read_csv(\"/content/drive/MyDrive/GSB 545 Data/penguins_lter.csv\")\n",
        "data2 = pd.read_csv(\"/content/drive/MyDrive/GSB 545 Data/penguins_size.csv\")\n",
        "data.head()"
      ],
      "metadata": {
        "colab": {
          "base_uri": "https://localhost:8080/",
          "height": 354
        },
        "id": "UM2snFmld0Qb",
        "outputId": "fd244661-81ec-48a8-9703-f80120af5bf5"
      },
      "execution_count": null,
      "outputs": [
        {
          "output_type": "execute_result",
          "data": {
            "text/plain": [
              "  studyName  Sample Number                              Species  Region  \\\n",
              "0   PAL0708              1  Adelie Penguin (Pygoscelis adeliae)  Anvers   \n",
              "1   PAL0708              2  Adelie Penguin (Pygoscelis adeliae)  Anvers   \n",
              "2   PAL0708              3  Adelie Penguin (Pygoscelis adeliae)  Anvers   \n",
              "3   PAL0708              4  Adelie Penguin (Pygoscelis adeliae)  Anvers   \n",
              "4   PAL0708              5  Adelie Penguin (Pygoscelis adeliae)  Anvers   \n",
              "\n",
              "      Island               Stage Individual ID Clutch Completion  Date Egg  \\\n",
              "0  Torgersen  Adult, 1 Egg Stage          N1A1               Yes  11/11/07   \n",
              "1  Torgersen  Adult, 1 Egg Stage          N1A2               Yes  11/11/07   \n",
              "2  Torgersen  Adult, 1 Egg Stage          N2A1               Yes  11/16/07   \n",
              "3  Torgersen  Adult, 1 Egg Stage          N2A2               Yes  11/16/07   \n",
              "4  Torgersen  Adult, 1 Egg Stage          N3A1               Yes  11/16/07   \n",
              "\n",
              "   Culmen Length (mm)  Culmen Depth (mm)  Flipper Length (mm)  Body Mass (g)  \\\n",
              "0                39.1               18.7                181.0         3750.0   \n",
              "1                39.5               17.4                186.0         3800.0   \n",
              "2                40.3               18.0                195.0         3250.0   \n",
              "3                 NaN                NaN                  NaN            NaN   \n",
              "4                36.7               19.3                193.0         3450.0   \n",
              "\n",
              "      Sex  Delta 15 N (o/oo)  Delta 13 C (o/oo)  \\\n",
              "0    MALE                NaN                NaN   \n",
              "1  FEMALE            8.94956          -24.69454   \n",
              "2  FEMALE            8.36821          -25.33302   \n",
              "3     NaN                NaN                NaN   \n",
              "4  FEMALE            8.76651          -25.32426   \n",
              "\n",
              "                         Comments  \n",
              "0  Not enough blood for isotopes.  \n",
              "1                             NaN  \n",
              "2                             NaN  \n",
              "3              Adult not sampled.  \n",
              "4                             NaN  "
            ],
            "text/html": [
              "\n",
              "  <div id=\"df-c099175e-c56b-445b-b2cc-5beb784db29d\">\n",
              "    <div class=\"colab-df-container\">\n",
              "      <div>\n",
              "<style scoped>\n",
              "    .dataframe tbody tr th:only-of-type {\n",
              "        vertical-align: middle;\n",
              "    }\n",
              "\n",
              "    .dataframe tbody tr th {\n",
              "        vertical-align: top;\n",
              "    }\n",
              "\n",
              "    .dataframe thead th {\n",
              "        text-align: right;\n",
              "    }\n",
              "</style>\n",
              "<table border=\"1\" class=\"dataframe\">\n",
              "  <thead>\n",
              "    <tr style=\"text-align: right;\">\n",
              "      <th></th>\n",
              "      <th>studyName</th>\n",
              "      <th>Sample Number</th>\n",
              "      <th>Species</th>\n",
              "      <th>Region</th>\n",
              "      <th>Island</th>\n",
              "      <th>Stage</th>\n",
              "      <th>Individual ID</th>\n",
              "      <th>Clutch Completion</th>\n",
              "      <th>Date Egg</th>\n",
              "      <th>Culmen Length (mm)</th>\n",
              "      <th>Culmen Depth (mm)</th>\n",
              "      <th>Flipper Length (mm)</th>\n",
              "      <th>Body Mass (g)</th>\n",
              "      <th>Sex</th>\n",
              "      <th>Delta 15 N (o/oo)</th>\n",
              "      <th>Delta 13 C (o/oo)</th>\n",
              "      <th>Comments</th>\n",
              "    </tr>\n",
              "  </thead>\n",
              "  <tbody>\n",
              "    <tr>\n",
              "      <th>0</th>\n",
              "      <td>PAL0708</td>\n",
              "      <td>1</td>\n",
              "      <td>Adelie Penguin (Pygoscelis adeliae)</td>\n",
              "      <td>Anvers</td>\n",
              "      <td>Torgersen</td>\n",
              "      <td>Adult, 1 Egg Stage</td>\n",
              "      <td>N1A1</td>\n",
              "      <td>Yes</td>\n",
              "      <td>11/11/07</td>\n",
              "      <td>39.1</td>\n",
              "      <td>18.7</td>\n",
              "      <td>181.0</td>\n",
              "      <td>3750.0</td>\n",
              "      <td>MALE</td>\n",
              "      <td>NaN</td>\n",
              "      <td>NaN</td>\n",
              "      <td>Not enough blood for isotopes.</td>\n",
              "    </tr>\n",
              "    <tr>\n",
              "      <th>1</th>\n",
              "      <td>PAL0708</td>\n",
              "      <td>2</td>\n",
              "      <td>Adelie Penguin (Pygoscelis adeliae)</td>\n",
              "      <td>Anvers</td>\n",
              "      <td>Torgersen</td>\n",
              "      <td>Adult, 1 Egg Stage</td>\n",
              "      <td>N1A2</td>\n",
              "      <td>Yes</td>\n",
              "      <td>11/11/07</td>\n",
              "      <td>39.5</td>\n",
              "      <td>17.4</td>\n",
              "      <td>186.0</td>\n",
              "      <td>3800.0</td>\n",
              "      <td>FEMALE</td>\n",
              "      <td>8.94956</td>\n",
              "      <td>-24.69454</td>\n",
              "      <td>NaN</td>\n",
              "    </tr>\n",
              "    <tr>\n",
              "      <th>2</th>\n",
              "      <td>PAL0708</td>\n",
              "      <td>3</td>\n",
              "      <td>Adelie Penguin (Pygoscelis adeliae)</td>\n",
              "      <td>Anvers</td>\n",
              "      <td>Torgersen</td>\n",
              "      <td>Adult, 1 Egg Stage</td>\n",
              "      <td>N2A1</td>\n",
              "      <td>Yes</td>\n",
              "      <td>11/16/07</td>\n",
              "      <td>40.3</td>\n",
              "      <td>18.0</td>\n",
              "      <td>195.0</td>\n",
              "      <td>3250.0</td>\n",
              "      <td>FEMALE</td>\n",
              "      <td>8.36821</td>\n",
              "      <td>-25.33302</td>\n",
              "      <td>NaN</td>\n",
              "    </tr>\n",
              "    <tr>\n",
              "      <th>3</th>\n",
              "      <td>PAL0708</td>\n",
              "      <td>4</td>\n",
              "      <td>Adelie Penguin (Pygoscelis adeliae)</td>\n",
              "      <td>Anvers</td>\n",
              "      <td>Torgersen</td>\n",
              "      <td>Adult, 1 Egg Stage</td>\n",
              "      <td>N2A2</td>\n",
              "      <td>Yes</td>\n",
              "      <td>11/16/07</td>\n",
              "      <td>NaN</td>\n",
              "      <td>NaN</td>\n",
              "      <td>NaN</td>\n",
              "      <td>NaN</td>\n",
              "      <td>NaN</td>\n",
              "      <td>NaN</td>\n",
              "      <td>NaN</td>\n",
              "      <td>Adult not sampled.</td>\n",
              "    </tr>\n",
              "    <tr>\n",
              "      <th>4</th>\n",
              "      <td>PAL0708</td>\n",
              "      <td>5</td>\n",
              "      <td>Adelie Penguin (Pygoscelis adeliae)</td>\n",
              "      <td>Anvers</td>\n",
              "      <td>Torgersen</td>\n",
              "      <td>Adult, 1 Egg Stage</td>\n",
              "      <td>N3A1</td>\n",
              "      <td>Yes</td>\n",
              "      <td>11/16/07</td>\n",
              "      <td>36.7</td>\n",
              "      <td>19.3</td>\n",
              "      <td>193.0</td>\n",
              "      <td>3450.0</td>\n",
              "      <td>FEMALE</td>\n",
              "      <td>8.76651</td>\n",
              "      <td>-25.32426</td>\n",
              "      <td>NaN</td>\n",
              "    </tr>\n",
              "  </tbody>\n",
              "</table>\n",
              "</div>\n",
              "      <button class=\"colab-df-convert\" onclick=\"convertToInteractive('df-c099175e-c56b-445b-b2cc-5beb784db29d')\"\n",
              "              title=\"Convert this dataframe to an interactive table.\"\n",
              "              style=\"display:none;\">\n",
              "        \n",
              "  <svg xmlns=\"http://www.w3.org/2000/svg\" height=\"24px\"viewBox=\"0 0 24 24\"\n",
              "       width=\"24px\">\n",
              "    <path d=\"M0 0h24v24H0V0z\" fill=\"none\"/>\n",
              "    <path d=\"M18.56 5.44l.94 2.06.94-2.06 2.06-.94-2.06-.94-.94-2.06-.94 2.06-2.06.94zm-11 1L8.5 8.5l.94-2.06 2.06-.94-2.06-.94L8.5 2.5l-.94 2.06-2.06.94zm10 10l.94 2.06.94-2.06 2.06-.94-2.06-.94-.94-2.06-.94 2.06-2.06.94z\"/><path d=\"M17.41 7.96l-1.37-1.37c-.4-.4-.92-.59-1.43-.59-.52 0-1.04.2-1.43.59L10.3 9.45l-7.72 7.72c-.78.78-.78 2.05 0 2.83L4 21.41c.39.39.9.59 1.41.59.51 0 1.02-.2 1.41-.59l7.78-7.78 2.81-2.81c.8-.78.8-2.07 0-2.86zM5.41 20L4 18.59l7.72-7.72 1.47 1.35L5.41 20z\"/>\n",
              "  </svg>\n",
              "      </button>\n",
              "      \n",
              "  <style>\n",
              "    .colab-df-container {\n",
              "      display:flex;\n",
              "      flex-wrap:wrap;\n",
              "      gap: 12px;\n",
              "    }\n",
              "\n",
              "    .colab-df-convert {\n",
              "      background-color: #E8F0FE;\n",
              "      border: none;\n",
              "      border-radius: 50%;\n",
              "      cursor: pointer;\n",
              "      display: none;\n",
              "      fill: #1967D2;\n",
              "      height: 32px;\n",
              "      padding: 0 0 0 0;\n",
              "      width: 32px;\n",
              "    }\n",
              "\n",
              "    .colab-df-convert:hover {\n",
              "      background-color: #E2EBFA;\n",
              "      box-shadow: 0px 1px 2px rgba(60, 64, 67, 0.3), 0px 1px 3px 1px rgba(60, 64, 67, 0.15);\n",
              "      fill: #174EA6;\n",
              "    }\n",
              "\n",
              "    [theme=dark] .colab-df-convert {\n",
              "      background-color: #3B4455;\n",
              "      fill: #D2E3FC;\n",
              "    }\n",
              "\n",
              "    [theme=dark] .colab-df-convert:hover {\n",
              "      background-color: #434B5C;\n",
              "      box-shadow: 0px 1px 3px 1px rgba(0, 0, 0, 0.15);\n",
              "      filter: drop-shadow(0px 1px 2px rgba(0, 0, 0, 0.3));\n",
              "      fill: #FFFFFF;\n",
              "    }\n",
              "  </style>\n",
              "\n",
              "      <script>\n",
              "        const buttonEl =\n",
              "          document.querySelector('#df-c099175e-c56b-445b-b2cc-5beb784db29d button.colab-df-convert');\n",
              "        buttonEl.style.display =\n",
              "          google.colab.kernel.accessAllowed ? 'block' : 'none';\n",
              "\n",
              "        async function convertToInteractive(key) {\n",
              "          const element = document.querySelector('#df-c099175e-c56b-445b-b2cc-5beb784db29d');\n",
              "          const dataTable =\n",
              "            await google.colab.kernel.invokeFunction('convertToInteractive',\n",
              "                                                     [key], {});\n",
              "          if (!dataTable) return;\n",
              "\n",
              "          const docLinkHtml = 'Like what you see? Visit the ' +\n",
              "            '<a target=\"_blank\" href=https://colab.research.google.com/notebooks/data_table.ipynb>data table notebook</a>'\n",
              "            + ' to learn more about interactive tables.';\n",
              "          element.innerHTML = '';\n",
              "          dataTable['output_type'] = 'display_data';\n",
              "          await google.colab.output.renderOutput(dataTable, element);\n",
              "          const docLink = document.createElement('div');\n",
              "          docLink.innerHTML = docLinkHtml;\n",
              "          element.appendChild(docLink);\n",
              "        }\n",
              "      </script>\n",
              "    </div>\n",
              "  </div>\n",
              "  "
            ]
          },
          "metadata": {},
          "execution_count": 2
        }
      ]
    },
    {
      "cell_type": "code",
      "source": [
        "from sklearn.ensemble import AdaBoostClassifier\n",
        "from sklearn.preprocessing import LabelEncoder\n",
        "from sklearn.tree import DecisionTreeClassifier\n",
        "for label in data.columns:\n",
        "    data[label] = LabelEncoder().fit(data[label]).transform(data[label])"
      ],
      "metadata": {
        "id": "_nvbhtSqfiUz"
      },
      "execution_count": null,
      "outputs": []
    },
    {
      "cell_type": "code",
      "source": [
        "X = data.drop(['Species'],axis=1)\n",
        "Y = data['Species']"
      ],
      "metadata": {
        "id": "p9FpSsigHoYz"
      },
      "execution_count": null,
      "outputs": []
    },
    {
      "cell_type": "code",
      "source": [
        "AdaBoost = AdaBoostClassifier(n_estimators=400,learning_rate=1,algorithm='SAMME')\n",
        "\n",
        "AdaBoost.fit(X,Y)\n",
        "\n",
        "prediction = AdaBoost.score(X,Y)\n",
        "\n",
        "print('The accuracy is: ',prediction*100,'%')"
      ],
      "metadata": {
        "colab": {
          "base_uri": "https://localhost:8080/"
        },
        "id": "9jXu8GvLH9zA",
        "outputId": "ae491bf3-a1a7-47b2-a509-808e7e07e624"
      },
      "execution_count": null,
      "outputs": [
        {
          "output_type": "stream",
          "name": "stdout",
          "text": [
            "The accuracy is:  99.12790697674419 %\n"
          ]
        }
      ]
    },
    {
      "cell_type": "code",
      "source": [
        "# Change hyperparameters\n",
        "z = data.drop(['Species', 'Region', 'Island', 'Stage', 'Clutch Completion', 'Sex'],axis=1)\n",
        "t = data['Species']"
      ],
      "metadata": {
        "id": "8GFJF2crIGxt"
      },
      "execution_count": null,
      "outputs": []
    },
    {
      "cell_type": "code",
      "source": [
        "AdaBoost = AdaBoostClassifier(n_estimators=400,learning_rate=1,algorithm='SAMME')\n",
        "\n",
        "AdaBoost.fit(z,t)\n",
        "\n",
        "prediction = AdaBoost.score(z,t)\n",
        "\n",
        "print('The accuracy is: ',prediction*100,'%')"
      ],
      "metadata": {
        "colab": {
          "base_uri": "https://localhost:8080/"
        },
        "id": "vPMpI-9oITnF",
        "outputId": "0b7b4077-6638-4870-b0b5-0498add0f0ff"
      },
      "execution_count": null,
      "outputs": [
        {
          "output_type": "stream",
          "name": "stdout",
          "text": [
            "The accuracy is:  99.70930232558139 %\n"
          ]
        }
      ]
    },
    {
      "cell_type": "code",
      "source": [
        "# Change hyperparameters again\n",
        "o = data.drop(['Species', 'Region', 'Island'],axis=1)\n",
        "p = data['Species']"
      ],
      "metadata": {
        "id": "edqQvQj6IkV9"
      },
      "execution_count": null,
      "outputs": []
    },
    {
      "cell_type": "code",
      "source": [
        "AdaBoost = AdaBoostClassifier(n_estimators=400,learning_rate=1,algorithm='SAMME')\n",
        "\n",
        "AdaBoost.fit(o,p)\n",
        "\n",
        "prediction = AdaBoost.score(o,p)\n",
        "\n",
        "print('The accuracy is: ',prediction*100,'%')"
      ],
      "metadata": {
        "colab": {
          "base_uri": "https://localhost:8080/"
        },
        "id": "zeTGmqnaIpMv",
        "outputId": "1fd9441b-43b6-4081-e32b-750402010a97"
      },
      "execution_count": null,
      "outputs": [
        {
          "output_type": "stream",
          "name": "stdout",
          "text": [
            "The accuracy is:  100.0 %\n"
          ]
        }
      ]
    },
    {
      "cell_type": "markdown",
      "source": [
        "# It is interesting to see how including the whole receipe with all the predictors is not the best way to do things in terms of accuracy. This is to be expected. The more we think about what is really needed and what is not the better our model gets at classifying which species of penguin we are looking at based on the predictors."
      ],
      "metadata": {
        "id": "jTYLWzkQJDwZ"
      }
    },
    {
      "cell_type": "code",
      "source": [
        "import pandas as pd\n",
        "import numpy as np\n",
        "import sklearn \n",
        "import time\n",
        "import matplotlib.pyplot as plt\n",
        "from sklearn.model_selection import cross_val_score\n",
        "from sklearn.model_selection import RepeatedKFold\n",
        "from sklearn.ensemble import BaggingRegressor\n",
        "from sklearn.ensemble import RandomForestRegressor\n",
        "from sklearn.linear_model import LinearRegression\n",
        "from sklearn.neighbors import KNeighborsRegressor\n",
        "from sklearn.tree import DecisionTreeRegressor\n",
        "from sklearn.svm import SVR\n",
        "from sklearn.ensemble import StackingRegressor"
      ],
      "metadata": {
        "id": "G6JxYjeQ5fks"
      },
      "execution_count": null,
      "outputs": []
    },
    {
      "cell_type": "code",
      "source": [
        "# Bagging\n",
        "X = data.drop(['Species'],axis=1)\n",
        "Y = data['Species']"
      ],
      "metadata": {
        "id": "hrCVPvJcJDKS"
      },
      "execution_count": null,
      "outputs": []
    },
    {
      "cell_type": "code",
      "source": [
        "# model prep\n",
        "def evaluate_model(model, X, Y):\n",
        "\tcv = RepeatedKFold(n_splits=10, n_repeats=3, random_state=1)\n",
        "\tscores = cross_val_score(model, X, Y, scoring='r2', cv=cv, n_jobs=-1, error_score='raise')\n",
        "\treturn abs(scores)"
      ],
      "metadata": {
        "id": "tU0tv3Zn5wcG"
      },
      "execution_count": null,
      "outputs": []
    },
    {
      "cell_type": "code",
      "source": [
        "lm_model = LinearRegression()\n",
        "scores = evaluate_model(lm_model, X, Y)\n",
        "print(\"Base Linear Regression R^2:\", np.mean(scores))"
      ],
      "metadata": {
        "colab": {
          "base_uri": "https://localhost:8080/"
        },
        "id": "BvmCO3Wp5zDd",
        "outputId": "870883f9-2049-4f43-fa42-e3f31657c4bb"
      },
      "execution_count": null,
      "outputs": [
        {
          "output_type": "stream",
          "name": "stdout",
          "text": [
            "Base Linear Regression R^2: 0.9273907681337678\n"
          ]
        }
      ]
    },
    {
      "cell_type": "code",
      "source": [
        "# stacking prep\n",
        "def get_stacking():\n",
        "    # define the base models\n",
        "    level0 = list()\n",
        "    level0.append(('knn', KNeighborsRegressor()))\n",
        "    level0.append(('cart', DecisionTreeRegressor()))\n",
        "    level0.append(('rf', RandomForestRegressor()))\n",
        "    level0.append(('bag', BaggingRegressor()))\n",
        "    level0.append(('lr_bag', BaggingRegressor(base_estimator= LinearRegression())))\n",
        "    # define meta learner model\n",
        "    level1 = LinearRegression()\n",
        "    # define the stacking ensemble\n",
        "    model = StackingRegressor(estimators=level0, final_estimator=level1, cv=5)\n",
        "    return model"
      ],
      "metadata": {
        "id": "UQylctVO5KEf"
      },
      "execution_count": null,
      "outputs": []
    },
    {
      "cell_type": "code",
      "source": [
        "def get_models():\n",
        "    models = dict()\n",
        "    models['knn'] = KNeighborsRegressor()\n",
        "    models['cart'] = DecisionTreeRegressor()\n",
        "    models[\"rf\"] = RandomForestRegressor()\n",
        "    models[\"bag\"] = BaggingRegressor()\n",
        "    models['svr'] = SVR()\n",
        "    models['bag_lr'] = BaggingRegressor(base_estimator= LinearRegression())\n",
        "    models['stacking'] = get_stacking()\n",
        "    return models"
      ],
      "metadata": {
        "id": "A_s5Owku5VHW"
      },
      "execution_count": null,
      "outputs": []
    },
    {
      "cell_type": "code",
      "source": [
        "# evaluate model\n",
        "results, names = list(), list()\n",
        "models = get_models()\n",
        "print(\"R^2 Scores (& Standard Deviation) of each respective model included in the stacking model\")\n",
        "for name, model in models.items():\n",
        "\tscores = evaluate_model(model, X, Y)\n",
        "\tresults.append(scores)\n",
        "\tnames.append(name)\n",
        "\tprint('>%s %.3f (%.3f)' % (name, np.mean(scores), np.std(scores)))"
      ],
      "metadata": {
        "colab": {
          "base_uri": "https://localhost:8080/"
        },
        "id": "GbtwsRTv5YKV",
        "outputId": "eab59965-5353-4cfe-b40a-6e1f8c4cf3ec"
      },
      "execution_count": null,
      "outputs": [
        {
          "output_type": "stream",
          "name": "stdout",
          "text": [
            "R^2 Scores (& Standard Deviation) of each respective model included in the stacking model\n",
            ">knn 0.949 (0.039)\n",
            ">cart 0.901 (0.100)\n",
            ">rf 0.949 (0.045)\n",
            ">bag 0.950 (0.042)\n",
            ">svr 0.924 (0.029)\n",
            ">bag_lr 0.928 (0.027)\n",
            ">stacking 0.934 (0.026)\n"
          ]
        }
      ]
    },
    {
      "cell_type": "code",
      "source": [
        "plt.boxplot(results, labels=names, showmeans=True)\n",
        "plt.show()"
      ],
      "metadata": {
        "id": "jwOSfV6O6lXB",
        "outputId": "45b72c14-40a4-4d6d-dfc3-59d5c45f3635",
        "colab": {
          "base_uri": "https://localhost:8080/",
          "height": 263
        }
      },
      "execution_count": null,
      "outputs": [
        {
          "output_type": "display_data",
          "data": {
            "text/plain": [
              "<Figure size 432x288 with 1 Axes>"
            ],
            "image/png": "[encoded data removed]"
          },
          "metadata": {
            "needs_background": "light"
          }
        }
      ]
    }
  ]
}