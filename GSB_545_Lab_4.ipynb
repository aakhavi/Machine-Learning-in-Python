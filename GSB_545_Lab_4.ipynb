{
  "cells": [
    {
      "cell_type": "markdown",
      "metadata": {
        "id": "view-in-github",
        "colab_type": "text"
      },
      "source": [
        "<a href=\"https://colab.research.google.com/github/aakhavi/Machine-Learning-in-Python/blob/main/GSB_545_Lab_4.ipynb\" target=\"_parent\"><img src=\"https://colab.research.google.com/assets/colab-badge.svg\" alt=\"Open In Colab\"/></a>"
      ]
    },
    {
      "cell_type": "markdown",
      "metadata": {
        "id": "6s-YnmMJ7o0D"
      },
      "source": [
        "# Arash Akhavi\n",
        "# Lab 4: Boosting\n",
        "# 4/21/2022"
      ]
    },
    {
      "cell_type": "code",
      "execution_count": null,
      "metadata": {
        "id": "50iMgGdr7r59"
      },
      "outputs": [],
      "source": [
        "import pandas as pd\n",
        "import numpy as np\n",
        "import sklearn \n",
        "import matplotlib.pyplot as plt\n",
        "from sklearn.ensemble import AdaBoostClassifier\n",
        "from sklearn.ensemble import GradientBoostingClassifier\n",
        "from xgboost import XGBClassifier\n",
        "from sklearn.preprocessing import LabelEncoder\n",
        "from sklearn.tree import DecisionTreeClassifier\n",
        "from numpy import mean\n",
        "from numpy import std\n",
        "from sklearn.model_selection import cross_val_score\n",
        "from sklearn.model_selection import RepeatedStratifiedKFold\n",
        "from sklearn.ensemble import BaggingClassifier\n",
        "from sklearn.ensemble import BaggingRegressor\n",
        "from sklearn.ensemble import RandomForestClassifier\n",
        "from sklearn.ensemble import RandomForestRegressor\n",
        "from sklearn.neighbors import KNeighborsClassifier\n",
        "from sklearn.ensemble import StackingRegressor\n",
        "from sklearn.ensemble import StackingClassifier\n",
        "from sklearn.neural_network import MLPClassifier\n",
        "from sklearn.linear_model import LogisticRegression\n",
        "from sklearn.neighbors import KNeighborsClassifier\n",
        "from sklearn.tree import DecisionTreeClassifier\n",
        "from sklearn.svm import SVC\n",
        "from sklearn.model_selection import RepeatedKFold\n",
        "from sklearn.linear_model import LinearRegression\n",
        "from sklearn.neighbors import KNeighborsRegressor\n",
        "from sklearn.tree import DecisionTreeRegressor\n",
        "from sklearn.neural_network import MLPRegressor\n",
        "from sklearn.neural_network import MLPClassifier\n",
        "from sklearn.svm import SVR\n",
        "from sklearn.naive_bayes import GaussianNB\n",
        "from xgboost import XGBClassifier\n",
        "from sklearn.model_selection import train_test_split\n",
        "from sklearn.metrics import accuracy_score\n",
        "import imblearn\n",
        "from collections import Counter\n",
        "from sklearn.datasets import make_classification\n",
        "from imblearn.under_sampling import NearMiss\n",
        "from matplotlib import pyplot\n",
        "from numpy import where"
      ]
    },
    {
      "cell_type": "markdown",
      "source": [
        "# Clean Data"
      ],
      "metadata": {
        "id": "xqTaS__MDLM9"
      }
    },
    {
      "cell_type": "code",
      "execution_count": null,
      "metadata": {
        "colab": {
          "base_uri": "https://localhost:8080/",
          "height": 317
        },
        "id": "I5U70j0mZvs5",
        "outputId": "1e1bb066-f46b-44a2-f52e-58f9958892e1"
      },
      "outputs": [
        {
          "output_type": "execute_result",
          "data": {
            "text/plain": [
              "   HeartDisease    BMI  Smoking  AlcoholDrinking  Stroke  PhysicalHealth  \\\n",
              "0             0  16.60        1                0       0             3.0   \n",
              "1             0  20.34        0                0       1             0.0   \n",
              "2             0  26.58        1                0       0            20.0   \n",
              "3             0  24.21        0                0       0             0.0   \n",
              "4             0  23.71        0                0       0            28.0   \n",
              "\n",
              "   MentalHealth  DiffWalking  Diabetic  PhysicalActivity  ...  60-64  65-69  \\\n",
              "0          30.0            0       1.0                 1  ...      0      0   \n",
              "1           0.0            0       0.0                 1  ...      0      0   \n",
              "2          30.0            0       1.0                 1  ...      0      1   \n",
              "3           0.0            0       0.0                 0  ...      0      0   \n",
              "4           0.0            1       0.0                 1  ...      0      0   \n",
              "\n",
              "   70-74  75-79  80 or older  Excellent  Fair  Good  Poor  Very good  \n",
              "0      0      0            0          0     0     0     0          1  \n",
              "1      0      0            1          0     0     0     0          1  \n",
              "2      0      0            0          0     1     0     0          0  \n",
              "3      0      1            0          0     0     1     0          0  \n",
              "4      0      0            0          0     0     0     0          1  \n",
              "\n",
              "[5 rows x 40 columns]"
            ],
            "text/html": [
              "\n",
              "  <div id=\"df-12a16080-b942-4256-9dcd-a4346ce11d57\">\n",
              "    <div class=\"colab-df-container\">\n",
              "      <div>\n",
              "<style scoped>\n",
              "    .dataframe tbody tr th:only-of-type {\n",
              "        vertical-align: middle;\n",
              "    }\n",
              "\n",
              "    .dataframe tbody tr th {\n",
              "        vertical-align: top;\n",
              "    }\n",
              "\n",
              "    .dataframe thead th {\n",
              "        text-align: right;\n",
              "    }\n",
              "</style>\n",
              "<table border=\"1\" class=\"dataframe\">\n",
              "  <thead>\n",
              "    <tr style=\"text-align: right;\">\n",
              "      <th></th>\n",
              "      <th>HeartDisease</th>\n",
              "      <th>BMI</th>\n",
              "      <th>Smoking</th>\n",
              "      <th>AlcoholDrinking</th>\n",
              "      <th>Stroke</th>\n",
              "      <th>PhysicalHealth</th>\n",
              "      <th>MentalHealth</th>\n",
              "      <th>DiffWalking</th>\n",
              "      <th>Diabetic</th>\n",
              "      <th>PhysicalActivity</th>\n",
              "      <th>...</th>\n",
              "      <th>60-64</th>\n",
              "      <th>65-69</th>\n",
              "      <th>70-74</th>\n",
              "      <th>75-79</th>\n",
              "      <th>80 or older</th>\n",
              "      <th>Excellent</th>\n",
              "      <th>Fair</th>\n",
              "      <th>Good</th>\n",
              "      <th>Poor</th>\n",
              "      <th>Very good</th>\n",
              "    </tr>\n",
              "  </thead>\n",
              "  <tbody>\n",
              "    <tr>\n",
              "      <th>0</th>\n",
              "      <td>0</td>\n",
              "      <td>16.60</td>\n",
              "      <td>1</td>\n",
              "      <td>0</td>\n",
              "      <td>0</td>\n",
              "      <td>3.0</td>\n",
              "      <td>30.0</td>\n",
              "      <td>0</td>\n",
              "      <td>1.0</td>\n",
              "      <td>1</td>\n",
              "      <td>...</td>\n",
              "      <td>0</td>\n",
              "      <td>0</td>\n",
              "      <td>0</td>\n",
              "      <td>0</td>\n",
              "      <td>0</td>\n",
              "      <td>0</td>\n",
              "      <td>0</td>\n",
              "      <td>0</td>\n",
              "      <td>0</td>\n",
              "      <td>1</td>\n",
              "    </tr>\n",
              "    <tr>\n",
              "      <th>1</th>\n",
              "      <td>0</td>\n",
              "      <td>20.34</td>\n",
              "      <td>0</td>\n",
              "      <td>0</td>\n",
              "      <td>1</td>\n",
              "      <td>0.0</td>\n",
              "      <td>0.0</td>\n",
              "      <td>0</td>\n",
              "      <td>0.0</td>\n",
              "      <td>1</td>\n",
              "      <td>...</td>\n",
              "      <td>0</td>\n",
              "      <td>0</td>\n",
              "      <td>0</td>\n",
              "      <td>0</td>\n",
              "      <td>1</td>\n",
              "      <td>0</td>\n",
              "      <td>0</td>\n",
              "      <td>0</td>\n",
              "      <td>0</td>\n",
              "      <td>1</td>\n",
              "    </tr>\n",
              "    <tr>\n",
              "      <th>2</th>\n",
              "      <td>0</td>\n",
              "      <td>26.58</td>\n",
              "      <td>1</td>\n",
              "      <td>0</td>\n",
              "      <td>0</td>\n",
              "      <td>20.0</td>\n",
              "      <td>30.0</td>\n",
              "      <td>0</td>\n",
              "      <td>1.0</td>\n",
              "      <td>1</td>\n",
              "      <td>...</td>\n",
              "      <td>0</td>\n",
              "      <td>1</td>\n",
              "      <td>0</td>\n",
              "      <td>0</td>\n",
              "      <td>0</td>\n",
              "      <td>0</td>\n",
              "      <td>1</td>\n",
              "      <td>0</td>\n",
              "      <td>0</td>\n",
              "      <td>0</td>\n",
              "    </tr>\n",
              "    <tr>\n",
              "      <th>3</th>\n",
              "      <td>0</td>\n",
              "      <td>24.21</td>\n",
              "      <td>0</td>\n",
              "      <td>0</td>\n",
              "      <td>0</td>\n",
              "      <td>0.0</td>\n",
              "      <td>0.0</td>\n",
              "      <td>0</td>\n",
              "      <td>0.0</td>\n",
              "      <td>0</td>\n",
              "      <td>...</td>\n",
              "      <td>0</td>\n",
              "      <td>0</td>\n",
              "      <td>0</td>\n",
              "      <td>1</td>\n",
              "      <td>0</td>\n",
              "      <td>0</td>\n",
              "      <td>0</td>\n",
              "      <td>1</td>\n",
              "      <td>0</td>\n",
              "      <td>0</td>\n",
              "    </tr>\n",
              "    <tr>\n",
              "      <th>4</th>\n",
              "      <td>0</td>\n",
              "      <td>23.71</td>\n",
              "      <td>0</td>\n",
              "      <td>0</td>\n",
              "      <td>0</td>\n",
              "      <td>28.0</td>\n",
              "      <td>0.0</td>\n",
              "      <td>1</td>\n",
              "      <td>0.0</td>\n",
              "      <td>1</td>\n",
              "      <td>...</td>\n",
              "      <td>0</td>\n",
              "      <td>0</td>\n",
              "      <td>0</td>\n",
              "      <td>0</td>\n",
              "      <td>0</td>\n",
              "      <td>0</td>\n",
              "      <td>0</td>\n",
              "      <td>0</td>\n",
              "      <td>0</td>\n",
              "      <td>1</td>\n",
              "    </tr>\n",
              "  </tbody>\n",
              "</table>\n",
              "<p>5 rows × 40 columns</p>\n",
              "</div>\n",
              "      <button class=\"colab-df-convert\" onclick=\"convertToInteractive('df-12a16080-b942-4256-9dcd-a4346ce11d57')\"\n",
              "              title=\"Convert this dataframe to an interactive table.\"\n",
              "              style=\"display:none;\">\n",
              "        \n",
              "  <svg xmlns=\"http://www.w3.org/2000/svg\" height=\"24px\"viewBox=\"0 0 24 24\"\n",
              "       width=\"24px\">\n",
              "    <path d=\"M0 0h24v24H0V0z\" fill=\"none\"/>\n",
              "    <path d=\"M18.56 5.44l.94 2.06.94-2.06 2.06-.94-2.06-.94-.94-2.06-.94 2.06-2.06.94zm-11 1L8.5 8.5l.94-2.06 2.06-.94-2.06-.94L8.5 2.5l-.94 2.06-2.06.94zm10 10l.94 2.06.94-2.06 2.06-.94-2.06-.94-.94-2.06-.94 2.06-2.06.94z\"/><path d=\"M17.41 7.96l-1.37-1.37c-.4-.4-.92-.59-1.43-.59-.52 0-1.04.2-1.43.59L10.3 9.45l-7.72 7.72c-.78.78-.78 2.05 0 2.83L4 21.41c.39.39.9.59 1.41.59.51 0 1.02-.2 1.41-.59l7.78-7.78 2.81-2.81c.8-.78.8-2.07 0-2.86zM5.41 20L4 18.59l7.72-7.72 1.47 1.35L5.41 20z\"/>\n",
              "  </svg>\n",
              "      </button>\n",
              "      \n",
              "  <style>\n",
              "    .colab-df-container {\n",
              "      display:flex;\n",
              "      flex-wrap:wrap;\n",
              "      gap: 12px;\n",
              "    }\n",
              "\n",
              "    .colab-df-convert {\n",
              "      background-color: #E8F0FE;\n",
              "      border: none;\n",
              "      border-radius: 50%;\n",
              "      cursor: pointer;\n",
              "      display: none;\n",
              "      fill: #1967D2;\n",
              "      height: 32px;\n",
              "      padding: 0 0 0 0;\n",
              "      width: 32px;\n",
              "    }\n",
              "\n",
              "    .colab-df-convert:hover {\n",
              "      background-color: #E2EBFA;\n",
              "      box-shadow: 0px 1px 2px rgba(60, 64, 67, 0.3), 0px 1px 3px 1px rgba(60, 64, 67, 0.15);\n",
              "      fill: #174EA6;\n",
              "    }\n",
              "\n",
              "    [theme=dark] .colab-df-convert {\n",
              "      background-color: #3B4455;\n",
              "      fill: #D2E3FC;\n",
              "    }\n",
              "\n",
              "    [theme=dark] .colab-df-convert:hover {\n",
              "      background-color: #434B5C;\n",
              "      box-shadow: 0px 1px 3px 1px rgba(0, 0, 0, 0.15);\n",
              "      filter: drop-shadow(0px 1px 2px rgba(0, 0, 0, 0.3));\n",
              "      fill: #FFFFFF;\n",
              "    }\n",
              "  </style>\n",
              "\n",
              "      <script>\n",
              "        const buttonEl =\n",
              "          document.querySelector('#df-12a16080-b942-4256-9dcd-a4346ce11d57 button.colab-df-convert');\n",
              "        buttonEl.style.display =\n",
              "          google.colab.kernel.accessAllowed ? 'block' : 'none';\n",
              "\n",
              "        async function convertToInteractive(key) {\n",
              "          const element = document.querySelector('#df-12a16080-b942-4256-9dcd-a4346ce11d57');\n",
              "          const dataTable =\n",
              "            await google.colab.kernel.invokeFunction('convertToInteractive',\n",
              "                                                     [key], {});\n",
              "          if (!dataTable) return;\n",
              "\n",
              "          const docLinkHtml = 'Like what you see? Visit the ' +\n",
              "            '<a target=\"_blank\" href=https://colab.research.google.com/notebooks/data_table.ipynb>data table notebook</a>'\n",
              "            + ' to learn more about interactive tables.';\n",
              "          element.innerHTML = '';\n",
              "          dataTable['output_type'] = 'display_data';\n",
              "          await google.colab.output.renderOutput(dataTable, element);\n",
              "          const docLink = document.createElement('div');\n",
              "          docLink.innerHTML = docLinkHtml;\n",
              "          element.appendChild(docLink);\n",
              "        }\n",
              "      </script>\n",
              "    </div>\n",
              "  </div>\n",
              "  "
            ]
          },
          "metadata": {},
          "execution_count": 3
        }
      ],
      "source": [
        "# read in data\n",
        "data = pd.read_csv(\"/content/drive/MyDrive/GSB 545 Data/heart_2020_cleaned.csv\")\n",
        "# create dummy variables \n",
        "data = pd.get_dummies(data, columns = ['Sex', 'Race', 'AgeCategory', 'GenHealth'], prefix = '', prefix_sep = '')\n",
        "# change Yes/No to binary \n",
        "data['HeartDisease'] = data['HeartDisease'].map({'Yes': 1, 'No': 0})\n",
        "data['Smoking'] = data['Smoking'].map({'Yes': 1, 'No': 0})\n",
        "data['AlcoholDrinking'] = data['AlcoholDrinking'].map({'Yes': 1, 'No': 0})\n",
        "data['Stroke'] = data['Stroke'].map({'Yes': 1, 'No': 0})\n",
        "data['DiffWalking'] = data['DiffWalking'].map({'Yes': 1, 'No': 0})\n",
        "data['Diabetic'] = data['Diabetic'].map({'Yes': 1, 'No': 0})\n",
        "data['PhysicalActivity'] = data['PhysicalActivity'].map({'Yes': 1, 'No': 0})\n",
        "data['KidneyDisease'] = data['KidneyDisease'].map({'Yes': 1, 'No': 0})\n",
        "data['Asthma'] = data['Asthma'].map({'Yes': 1, 'No': 0})\n",
        "data['SkinCancer'] = data['SkinCancer'].map({'Yes': 1, 'No': 0})\n",
        "#data[['HeartDisease', 'Smoking', 'AlcoholDrinking', 'Stroke', 'DiffWalking', 'Diabetic', 'KidneyDisease', 'SkinCancer']] = data[['HeartDisease', 'Smoking', 'AlcoholDrinking', 'Stroke', 'DiffWalking', 'Diabetic', 'KidneyDisease', 'SkinCancer']].map({'Yes': 1, 'No': 0})\n",
        "#drop null values\n",
        "data = data.dropna()\n",
        "data.head()\n"
      ]
    },
    {
      "cell_type": "markdown",
      "source": [
        "# As we know this data set has extremely unbalanced classes there for we need to look into a way to balance them. Without balancing them we are getting an accuracy of around 90% with every type of boosting method. Upon researching undersampling methods we get a better understanding of what we need to do in order to get more accurate and balanced results. We want to make the No/Yes rows for Heart Disease more balanced by undersampling people who do not have heart disease.\n"
      ],
      "metadata": {
        "id": "Hic2mMYGYuaL"
      }
    },
    {
      "cell_type": "markdown",
      "source": [
        "# Prepare Data"
      ],
      "metadata": {
        "id": "jg_-zDJCDQ8v"
      }
    },
    {
      "cell_type": "code",
      "execution_count": null,
      "metadata": {
        "id": "j55UhaQcwvuc"
      },
      "outputs": [],
      "source": [
        "x = data.drop(['HeartDisease'],axis=1)\n",
        "y = data['HeartDisease']"
      ]
    },
    {
      "cell_type": "code",
      "source": [
        "# summarize class distribution\n",
        "counter = Counter(y)\n",
        "print(counter)"
      ],
      "metadata": {
        "colab": {
          "base_uri": "https://localhost:8080/"
        },
        "id": "Y1ceTw3VVrVl",
        "outputId": "0e4a6ac2-d109-49aa-ab83-7c387cfb3ba4"
      },
      "execution_count": null,
      "outputs": [
        {
          "output_type": "stream",
          "name": "stdout",
          "text": [
            "Counter({0: 283979, 1: 26476})\n"
          ]
        }
      ]
    },
    {
      "cell_type": "markdown",
      "source": [
        "# Balance Data"
      ],
      "metadata": {
        "id": "XszKLCmsDUgj"
      }
    },
    {
      "cell_type": "code",
      "source": [
        "# define the undersampling method\n",
        "# undersampling so we can get less of no heart disease to make distribution closer to 50/50 and work with smaller data set\n",
        "undersample = NearMiss(version=1, n_neighbors=3)"
      ],
      "metadata": {
        "id": "P8nQafKkV3j4"
      },
      "execution_count": null,
      "outputs": []
    },
    {
      "cell_type": "code",
      "source": [
        "# transform the dataset\n",
        "x, y = undersample.fit_resample(x, y)"
      ],
      "metadata": {
        "id": "amQrXMitV4cF"
      },
      "execution_count": null,
      "outputs": []
    },
    {
      "cell_type": "code",
      "source": [
        "# summarize the new class distribution\n",
        "counter = Counter(y)\n",
        "print(counter)"
      ],
      "metadata": {
        "colab": {
          "base_uri": "https://localhost:8080/"
        },
        "id": "5rrNA9kGV9Pa",
        "outputId": "b718ad02-f3df-4864-e892-ead0a9a49e75"
      },
      "execution_count": null,
      "outputs": [
        {
          "output_type": "stream",
          "name": "stdout",
          "text": [
            "Counter({0: 26476, 1: 26476})\n"
          ]
        }
      ]
    },
    {
      "cell_type": "markdown",
      "source": [
        "# Boosting Models"
      ],
      "metadata": {
        "id": "yVK52BTSDB7R"
      }
    },
    {
      "cell_type": "code",
      "execution_count": null,
      "metadata": {
        "colab": {
          "base_uri": "https://localhost:8080/"
        },
        "id": "oqBGF-Wjw2hL",
        "outputId": "1d467c3b-796c-4b0a-d481-a78989086ac1"
      },
      "outputs": [
        {
          "output_type": "stream",
          "name": "stdout",
          "text": [
            "Accuracy: 0.890 (0.004)\n",
            "Precision: 0.948 (0.002)\n",
            "Recall: 0.825 (0.008)\n"
          ]
        }
      ],
      "source": [
        "# Create model\n",
        "# Gradient Boost\n",
        "model = GradientBoostingClassifier()\n",
        "cv = RepeatedStratifiedKFold(n_splits=10, n_repeats=1, random_state=1)\n",
        "n_scores_gradient = cross_val_score(model, x, y, scoring='accuracy', cv=cv, n_jobs=-1, error_score='raise',)\n",
        "n_scores_gradient_1 = cross_val_score(model, x, y, scoring='precision', cv=cv, n_jobs=-1, error_score='raise',)\n",
        "n_scores_gradient_2 = cross_val_score(model, x, y, scoring='recall', cv=cv, n_jobs=-1, error_score='raise',)\n",
        "print('Accuracy: %.3f (%.3f)' % (mean(n_scores_gradient), std(n_scores_gradient)))\n",
        "print('Precision: %.3f (%.3f)' % (mean(n_scores_gradient_1), std(n_scores_gradient_1)))\n",
        "print('Recall: %.3f (%.3f)' % (mean(n_scores_gradient_2), std(n_scores_gradient_2)))"
      ]
    },
    {
      "cell_type": "code",
      "execution_count": null,
      "metadata": {
        "colab": {
          "base_uri": "https://localhost:8080/"
        },
        "id": "xEXdah7YxBaE",
        "outputId": "b7b69313-f339-44bd-9a6b-7c39194a866a"
      },
      "outputs": [
        {
          "output_type": "stream",
          "name": "stdout",
          "text": [
            "Accuracy: 0.881 (0.004)\n",
            "Precision: 0.958 (0.002)\n",
            "Recall: 0.796 (0.008)\n"
          ]
        }
      ],
      "source": [
        "# AdaBoost\n",
        "AdaBoost = AdaBoostClassifier(n_estimators=400,learning_rate=0.5,algorithm='SAMME')\n",
        "cv = RepeatedStratifiedKFold(n_splits=10, n_repeats=1, random_state=1)\n",
        "n_scores_ada = cross_val_score(AdaBoost, x, y, scoring='accuracy', cv=cv, n_jobs=-1, error_score='raise')\n",
        "n_scores_ada_1 = cross_val_score(AdaBoost, x, y, scoring='precision', cv=cv, n_jobs=-1, error_score='raise')\n",
        "n_scores_ada_2 = cross_val_score(AdaBoost, x, y, scoring='recall', cv=cv, n_jobs=-1, error_score='raise')\n",
        "print('Accuracy: %.3f (%.3f)' % (mean(n_scores_ada), std(n_scores_ada)))\n",
        "print('Precision: %.3f (%.3f)' % (mean(n_scores_ada_1), std(n_scores_ada_1)))\n",
        "print('Recall: %.3f (%.3f)' % (mean(n_scores_ada_2), std(n_scores_ada_2)))"
      ]
    },
    {
      "cell_type": "code",
      "source": [
        "# XGBoost\n",
        "model = XGBClassifier()\n",
        "cv = RepeatedStratifiedKFold(n_splits=10, n_repeats=1, random_state=1)\n",
        "n_scores_xgb = cross_val_score(model, x, y, scoring='accuracy', cv=cv, n_jobs=-1, error_score='raise', )\n",
        "n_scores_xgb_1 = cross_val_score(model, x, y, scoring='precision', cv=cv, n_jobs=-1, error_score='raise', )\n",
        "n_scores_xgb_2 = cross_val_score(model, x, y, scoring='recall', cv=cv, n_jobs=-1, error_score='raise', )\n",
        "print('Accuracy: %.3f (%.3f)' % (mean(n_scores_xgb), std(n_scores_xgb)))\n",
        "print('Precision: %.3f (%.3f)' % (mean(n_scores_xgb_1), std(n_scores_xgb_1)))\n",
        "print('Recall: %.3f (%.3f)' % (mean(n_scores_xgb_2), std(n_scores_xgb_2)))"
      ],
      "metadata": {
        "colab": {
          "base_uri": "https://localhost:8080/"
        },
        "id": "aaXpPylA4W4R",
        "outputId": "a5930857-0265-4628-ecd2-02a4271756f4"
      },
      "execution_count": null,
      "outputs": [
        {
          "output_type": "stream",
          "name": "stdout",
          "text": [
            "Accuracy: 0.891 (0.004)\n",
            "Precision: 0.956 (0.002)\n",
            "Recall: 0.819 (0.008)\n"
          ]
        }
      ]
    },
    {
      "cell_type": "markdown",
      "source": [
        "# Compare Boosting Methods"
      ],
      "metadata": {
        "id": "Y8teZavuJ0Rw"
      }
    },
    {
      "cell_type": "code",
      "source": [
        "results = [n_scores_gradient, n_scores_ada, n_scores_xgb]\n",
        "results_1 = [n_scores_gradient_1, n_scores_ada_1, n_scores_xgb_1]\n",
        "results_2 = [n_scores_gradient_2, n_scores_ada_2, n_scores_xgb_2]\n",
        "methods = ['Gradient Boosting', 'XGB', 'AdaBoost']"
      ],
      "metadata": {
        "id": "yt1hk9iOZrxY"
      },
      "execution_count": null,
      "outputs": []
    },
    {
      "cell_type": "code",
      "source": [
        "# Compare Accuracy \n",
        "pyplot.boxplot(results, labels=methods, showmeans=True)\n",
        "pyplot.show()"
      ],
      "metadata": {
        "colab": {
          "base_uri": "https://localhost:8080/",
          "height": 265
        },
        "id": "oPkz_GB4Zsyq",
        "outputId": "7947d337-c1e8-41f7-e8b4-6702842f2c86"
      },
      "execution_count": null,
      "outputs": [
        {
          "output_type": "display_data",
          "data": {
            "text/plain": [
              "<Figure size 432x288 with 1 Axes>"
            ],
            "image/png": "[encoded data removed]"
          },
          "metadata": {
            "needs_background": "light"
          }
        }
      ]
    },
    {
      "cell_type": "code",
      "source": [
        "# Compare Precision \n",
        "pyplot.boxplot(results_1, labels=methods, showmeans=True)\n",
        "pyplot.show()"
      ],
      "metadata": {
        "colab": {
          "base_uri": "https://localhost:8080/",
          "height": 265
        },
        "id": "qpmdB32_J9x4",
        "outputId": "7904a093-8953-4f04-ae0d-d5d0ca916c32"
      },
      "execution_count": null,
      "outputs": [
        {
          "output_type": "display_data",
          "data": {
            "text/plain": [
              "<Figure size 432x288 with 1 Axes>"
            ],
            "image/png": "[encoded data removed]"
          },
          "metadata": {
            "needs_background": "light"
          }
        }
      ]
    },
    {
      "cell_type": "code",
      "source": [
        "# Compare Recall \n",
        "pyplot.boxplot(results_2, labels=methods, showmeans=True)\n",
        "pyplot.show()"
      ],
      "metadata": {
        "colab": {
          "base_uri": "https://localhost:8080/",
          "height": 265
        },
        "id": "dyYcqSSHKDpK",
        "outputId": "f3b44972-1858-43cd-8dcb-889933002099"
      },
      "execution_count": null,
      "outputs": [
        {
          "output_type": "display_data",
          "data": {
            "text/plain": [
              "<Figure size 432x288 with 1 Axes>"
            ],
            "image/png": "[encoded data removed]"
          },
          "metadata": {
            "needs_background": "light"
          }
        }
      ]
    },
    {
      "cell_type": "markdown",
      "source": [
        "# The results are interesting. The AdaBoosting model has the highest accuracy, the gradient boosting model has the highest recall, and the XG boosting model has the highest precision. Since we are dealing with Heart Disease data I believe precision is the most important metric in this case. We want to make sure we are correctly classifying people who are going to have Heart Disease based on the features provided. Therefore, based on this analysis the best boosting model for predicting heart attacks based on precision is the XG boosting model. "
      ],
      "metadata": {
        "id": "1DlC_tYNZQnm"
      }
    },
    {
      "cell_type": "markdown",
      "source": [
        "# Feature Importance"
      ],
      "metadata": {
        "id": "rhNdZDG4cXAh"
      }
    },
    {
      "cell_type": "code",
      "source": [
        "# define the model\n",
        "model = XGBClassifier()\n",
        "# fit the model\n",
        "model.fit(x, y)"
      ],
      "metadata": {
        "colab": {
          "base_uri": "https://localhost:8080/"
        },
        "id": "7khH71crcJIb",
        "outputId": "6a06c83d-f133-449c-bc01-673db3a548a3"
      },
      "execution_count": null,
      "outputs": [
        {
          "output_type": "execute_result",
          "data": {
            "text/plain": [
              "XGBClassifier()"
            ]
          },
          "metadata": {},
          "execution_count": 39
        }
      ]
    },
    {
      "cell_type": "code",
      "source": [
        "# get importance\n",
        "importance = model.feature_importances_"
      ],
      "metadata": {
        "id": "U-05PJWAcUHH"
      },
      "execution_count": null,
      "outputs": []
    },
    {
      "cell_type": "code",
      "source": [
        "# summarize feature importance\n",
        "for i,v in enumerate(importance):\n",
        "\tprint('Feature: %0d, Score: %.5f' % (i,v))"
      ],
      "metadata": {
        "colab": {
          "base_uri": "https://localhost:8080/"
        },
        "id": "Lnp32fc0cWfV",
        "outputId": "c7da600d-e97d-4526-ceac-e7c68a0a1639"
      },
      "execution_count": null,
      "outputs": [
        {
          "output_type": "stream",
          "name": "stdout",
          "text": [
            "Feature: 0, Score: 0.00859\n",
            "Feature: 1, Score: 0.01944\n",
            "Feature: 2, Score: 0.01760\n",
            "Feature: 3, Score: 0.05815\n",
            "Feature: 4, Score: 0.14485\n",
            "Feature: 5, Score: 0.07816\n",
            "Feature: 6, Score: 0.12894\n",
            "Feature: 7, Score: 0.05629\n",
            "Feature: 8, Score: 0.08077\n",
            "Feature: 9, Score: 0.01557\n",
            "Feature: 10, Score: 0.03704\n",
            "Feature: 11, Score: 0.03622\n",
            "Feature: 12, Score: 0.02053\n",
            "Feature: 13, Score: 0.00392\n",
            "Feature: 14, Score: 0.00000\n",
            "Feature: 15, Score: 0.00000\n",
            "Feature: 16, Score: 0.00000\n",
            "Feature: 17, Score: 0.00004\n",
            "Feature: 18, Score: 0.00000\n",
            "Feature: 19, Score: 0.00000\n",
            "Feature: 20, Score: 0.08886\n",
            "Feature: 21, Score: 0.00000\n",
            "Feature: 22, Score: 0.00000\n",
            "Feature: 23, Score: 0.00000\n",
            "Feature: 24, Score: 0.00008\n",
            "Feature: 25, Score: 0.00000\n",
            "Feature: 26, Score: 0.00000\n",
            "Feature: 27, Score: 0.00000\n",
            "Feature: 28, Score: 0.00000\n",
            "Feature: 29, Score: 0.00246\n",
            "Feature: 30, Score: 0.00040\n",
            "Feature: 31, Score: 0.00018\n",
            "Feature: 32, Score: 0.00924\n",
            "Feature: 33, Score: 0.00513\n",
            "Feature: 34, Score: 0.00659\n",
            "Feature: 35, Score: 0.10993\n",
            "Feature: 36, Score: 0.05705\n",
            "Feature: 37, Score: 0.00930\n",
            "Feature: 38, Score: 0.00468\n"
          ]
        }
      ]
    },
    {
      "cell_type": "code",
      "source": [
        "# plot feature importance\n",
        "pyplot.bar([x for x in range(len(importance))], importance)\n",
        "pyplot.show()"
      ],
      "metadata": {
        "colab": {
          "base_uri": "https://localhost:8080/",
          "height": 265
        },
        "id": "sNWXnG8kcboh",
        "outputId": "e6bfa876-3c55-4503-d2bb-5bcb42a1f032"
      },
      "execution_count": null,
      "outputs": [
        {
          "output_type": "display_data",
          "data": {
            "text/plain": [
              "<Figure size 432x288 with 1 Axes>"
            ],
            "image/png": "[encoded data removed]"
          },
          "metadata": {
            "needs_background": "light"
          }
        }
      ]
    },
    {
      "cell_type": "markdown",
      "source": [
        "# As shown above the most important features in the XG Boost model are: 4, 6, 20, 35. These features correspond to: Stroke, Mental Health, Race (Other), General Health (Excellent)."
      ],
      "metadata": {
        "id": "cu_R5xgkcg6P"
      }
    },
    {
      "cell_type": "code",
      "source": [
        "# view columns\n",
        "pd.set_option('max_columns', None)\n",
        "data.head()"
      ],
      "metadata": {
        "colab": {
          "base_uri": "https://localhost:8080/",
          "height": 305
        },
        "id": "KLlFp8a7cp0f",
        "outputId": "88cf0815-45af-4d5b-8fb4-a9776f61f1a4"
      },
      "execution_count": null,
      "outputs": [
        {
          "output_type": "execute_result",
          "data": {
            "text/plain": [
              "   HeartDisease    BMI  Smoking  AlcoholDrinking  Stroke  PhysicalHealth  \\\n",
              "0             0  16.60        1                0       0             3.0   \n",
              "1             0  20.34        0                0       1             0.0   \n",
              "2             0  26.58        1                0       0            20.0   \n",
              "3             0  24.21        0                0       0             0.0   \n",
              "4             0  23.71        0                0       0            28.0   \n",
              "\n",
              "   MentalHealth  DiffWalking  Diabetic  PhysicalActivity  SleepTime  Asthma  \\\n",
              "0          30.0            0       1.0                 1        5.0       1   \n",
              "1           0.0            0       0.0                 1        7.0       0   \n",
              "2          30.0            0       1.0                 1        8.0       1   \n",
              "3           0.0            0       0.0                 0        6.0       0   \n",
              "4           0.0            1       0.0                 1        8.0       0   \n",
              "\n",
              "   KidneyDisease  SkinCancer  Female  Male  American Indian/Alaskan Native  \\\n",
              "0              0           1       1     0                               0   \n",
              "1              0           0       1     0                               0   \n",
              "2              0           0       0     1                               0   \n",
              "3              0           1       1     0                               0   \n",
              "4              0           0       1     0                               0   \n",
              "\n",
              "   Asian  Black  Hispanic  Other  White  18-24  25-29  30-34  35-39  40-44  \\\n",
              "0      0      0         0      0      1      0      0      0      0      0   \n",
              "1      0      0         0      0      1      0      0      0      0      0   \n",
              "2      0      0         0      0      1      0      0      0      0      0   \n",
              "3      0      0         0      0      1      0      0      0      0      0   \n",
              "4      0      0         0      0      1      0      0      0      0      1   \n",
              "\n",
              "   45-49  50-54  55-59  60-64  65-69  70-74  75-79  80 or older  Excellent  \\\n",
              "0      0      0      1      0      0      0      0            0          0   \n",
              "1      0      0      0      0      0      0      0            1          0   \n",
              "2      0      0      0      0      1      0      0            0          0   \n",
              "3      0      0      0      0      0      0      1            0          0   \n",
              "4      0      0      0      0      0      0      0            0          0   \n",
              "\n",
              "   Fair  Good  Poor  Very good  \n",
              "0     0     0     0          1  \n",
              "1     0     0     0          1  \n",
              "2     1     0     0          0  \n",
              "3     0     1     0          0  \n",
              "4     0     0     0          1  "
            ],
            "text/html": [
              "\n",
              "  <div id=\"df-adea569f-5ac5-4c36-a576-0b274770ec5e\">\n",
              "    <div class=\"colab-df-container\">\n",
              "      <div>\n",
              "<style scoped>\n",
              "    .dataframe tbody tr th:only-of-type {\n",
              "        vertical-align: middle;\n",
              "    }\n",
              "\n",
              "    .dataframe tbody tr th {\n",
              "        vertical-align: top;\n",
              "    }\n",
              "\n",
              "    .dataframe thead th {\n",
              "        text-align: right;\n",
              "    }\n",
              "</style>\n",
              "<table border=\"1\" class=\"dataframe\">\n",
              "  <thead>\n",
              "    <tr style=\"text-align: right;\">\n",
              "      <th></th>\n",
              "      <th>HeartDisease</th>\n",
              "      <th>BMI</th>\n",
              "      <th>Smoking</th>\n",
              "      <th>AlcoholDrinking</th>\n",
              "      <th>Stroke</th>\n",
              "      <th>PhysicalHealth</th>\n",
              "      <th>MentalHealth</th>\n",
              "      <th>DiffWalking</th>\n",
              "      <th>Diabetic</th>\n",
              "      <th>PhysicalActivity</th>\n",
              "      <th>SleepTime</th>\n",
              "      <th>Asthma</th>\n",
              "      <th>KidneyDisease</th>\n",
              "      <th>SkinCancer</th>\n",
              "      <th>Female</th>\n",
              "      <th>Male</th>\n",
              "      <th>American Indian/Alaskan Native</th>\n",
              "      <th>Asian</th>\n",
              "      <th>Black</th>\n",
              "      <th>Hispanic</th>\n",
              "      <th>Other</th>\n",
              "      <th>White</th>\n",
              "      <th>18-24</th>\n",
              "      <th>25-29</th>\n",
              "      <th>30-34</th>\n",
              "      <th>35-39</th>\n",
              "      <th>40-44</th>\n",
              "      <th>45-49</th>\n",
              "      <th>50-54</th>\n",
              "      <th>55-59</th>\n",
              "      <th>60-64</th>\n",
              "      <th>65-69</th>\n",
              "      <th>70-74</th>\n",
              "      <th>75-79</th>\n",
              "      <th>80 or older</th>\n",
              "      <th>Excellent</th>\n",
              "      <th>Fair</th>\n",
              "      <th>Good</th>\n",
              "      <th>Poor</th>\n",
              "      <th>Very good</th>\n",
              "    </tr>\n",
              "  </thead>\n",
              "  <tbody>\n",
              "    <tr>\n",
              "      <th>0</th>\n",
              "      <td>0</td>\n",
              "      <td>16.60</td>\n",
              "      <td>1</td>\n",
              "      <td>0</td>\n",
              "      <td>0</td>\n",
              "      <td>3.0</td>\n",
              "      <td>30.0</td>\n",
              "      <td>0</td>\n",
              "      <td>1.0</td>\n",
              "      <td>1</td>\n",
              "      <td>5.0</td>\n",
              "      <td>1</td>\n",
              "      <td>0</td>\n",
              "      <td>1</td>\n",
              "      <td>1</td>\n",
              "      <td>0</td>\n",
              "      <td>0</td>\n",
              "      <td>0</td>\n",
              "      <td>0</td>\n",
              "      <td>0</td>\n",
              "      <td>0</td>\n",
              "      <td>1</td>\n",
              "      <td>0</td>\n",
              "      <td>0</td>\n",
              "      <td>0</td>\n",
              "      <td>0</td>\n",
              "      <td>0</td>\n",
              "      <td>0</td>\n",
              "      <td>0</td>\n",
              "      <td>1</td>\n",
              "      <td>0</td>\n",
              "      <td>0</td>\n",
              "      <td>0</td>\n",
              "      <td>0</td>\n",
              "      <td>0</td>\n",
              "      <td>0</td>\n",
              "      <td>0</td>\n",
              "      <td>0</td>\n",
              "      <td>0</td>\n",
              "      <td>1</td>\n",
              "    </tr>\n",
              "    <tr>\n",
              "      <th>1</th>\n",
              "      <td>0</td>\n",
              "      <td>20.34</td>\n",
              "      <td>0</td>\n",
              "      <td>0</td>\n",
              "      <td>1</td>\n",
              "      <td>0.0</td>\n",
              "      <td>0.0</td>\n",
              "      <td>0</td>\n",
              "      <td>0.0</td>\n",
              "      <td>1</td>\n",
              "      <td>7.0</td>\n",
              "      <td>0</td>\n",
              "      <td>0</td>\n",
              "      <td>0</td>\n",
              "      <td>1</td>\n",
              "      <td>0</td>\n",
              "      <td>0</td>\n",
              "      <td>0</td>\n",
              "      <td>0</td>\n",
              "      <td>0</td>\n",
              "      <td>0</td>\n",
              "      <td>1</td>\n",
              "      <td>0</td>\n",
              "      <td>0</td>\n",
              "      <td>0</td>\n",
              "      <td>0</td>\n",
              "      <td>0</td>\n",
              "      <td>0</td>\n",
              "      <td>0</td>\n",
              "      <td>0</td>\n",
              "      <td>0</td>\n",
              "      <td>0</td>\n",
              "      <td>0</td>\n",
              "      <td>0</td>\n",
              "      <td>1</td>\n",
              "      <td>0</td>\n",
              "      <td>0</td>\n",
              "      <td>0</td>\n",
              "      <td>0</td>\n",
              "      <td>1</td>\n",
              "    </tr>\n",
              "    <tr>\n",
              "      <th>2</th>\n",
              "      <td>0</td>\n",
              "      <td>26.58</td>\n",
              "      <td>1</td>\n",
              "      <td>0</td>\n",
              "      <td>0</td>\n",
              "      <td>20.0</td>\n",
              "      <td>30.0</td>\n",
              "      <td>0</td>\n",
              "      <td>1.0</td>\n",
              "      <td>1</td>\n",
              "      <td>8.0</td>\n",
              "      <td>1</td>\n",
              "      <td>0</td>\n",
              "      <td>0</td>\n",
              "      <td>0</td>\n",
              "      <td>1</td>\n",
              "      <td>0</td>\n",
              "      <td>0</td>\n",
              "      <td>0</td>\n",
              "      <td>0</td>\n",
              "      <td>0</td>\n",
              "      <td>1</td>\n",
              "      <td>0</td>\n",
              "      <td>0</td>\n",
              "      <td>0</td>\n",
              "      <td>0</td>\n",
              "      <td>0</td>\n",
              "      <td>0</td>\n",
              "      <td>0</td>\n",
              "      <td>0</td>\n",
              "      <td>0</td>\n",
              "      <td>1</td>\n",
              "      <td>0</td>\n",
              "      <td>0</td>\n",
              "      <td>0</td>\n",
              "      <td>0</td>\n",
              "      <td>1</td>\n",
              "      <td>0</td>\n",
              "      <td>0</td>\n",
              "      <td>0</td>\n",
              "    </tr>\n",
              "    <tr>\n",
              "      <th>3</th>\n",
              "      <td>0</td>\n",
              "      <td>24.21</td>\n",
              "      <td>0</td>\n",
              "      <td>0</td>\n",
              "      <td>0</td>\n",
              "      <td>0.0</td>\n",
              "      <td>0.0</td>\n",
              "      <td>0</td>\n",
              "      <td>0.0</td>\n",
              "      <td>0</td>\n",
              "      <td>6.0</td>\n",
              "      <td>0</td>\n",
              "      <td>0</td>\n",
              "      <td>1</td>\n",
              "      <td>1</td>\n",
              "      <td>0</td>\n",
              "      <td>0</td>\n",
              "      <td>0</td>\n",
              "      <td>0</td>\n",
              "      <td>0</td>\n",
              "      <td>0</td>\n",
              "      <td>1</td>\n",
              "      <td>0</td>\n",
              "      <td>0</td>\n",
              "      <td>0</td>\n",
              "      <td>0</td>\n",
              "      <td>0</td>\n",
              "      <td>0</td>\n",
              "      <td>0</td>\n",
              "      <td>0</td>\n",
              "      <td>0</td>\n",
              "      <td>0</td>\n",
              "      <td>0</td>\n",
              "      <td>1</td>\n",
              "      <td>0</td>\n",
              "      <td>0</td>\n",
              "      <td>0</td>\n",
              "      <td>1</td>\n",
              "      <td>0</td>\n",
              "      <td>0</td>\n",
              "    </tr>\n",
              "    <tr>\n",
              "      <th>4</th>\n",
              "      <td>0</td>\n",
              "      <td>23.71</td>\n",
              "      <td>0</td>\n",
              "      <td>0</td>\n",
              "      <td>0</td>\n",
              "      <td>28.0</td>\n",
              "      <td>0.0</td>\n",
              "      <td>1</td>\n",
              "      <td>0.0</td>\n",
              "      <td>1</td>\n",
              "      <td>8.0</td>\n",
              "      <td>0</td>\n",
              "      <td>0</td>\n",
              "      <td>0</td>\n",
              "      <td>1</td>\n",
              "      <td>0</td>\n",
              "      <td>0</td>\n",
              "      <td>0</td>\n",
              "      <td>0</td>\n",
              "      <td>0</td>\n",
              "      <td>0</td>\n",
              "      <td>1</td>\n",
              "      <td>0</td>\n",
              "      <td>0</td>\n",
              "      <td>0</td>\n",
              "      <td>0</td>\n",
              "      <td>1</td>\n",
              "      <td>0</td>\n",
              "      <td>0</td>\n",
              "      <td>0</td>\n",
              "      <td>0</td>\n",
              "      <td>0</td>\n",
              "      <td>0</td>\n",
              "      <td>0</td>\n",
              "      <td>0</td>\n",
              "      <td>0</td>\n",
              "      <td>0</td>\n",
              "      <td>0</td>\n",
              "      <td>0</td>\n",
              "      <td>1</td>\n",
              "    </tr>\n",
              "  </tbody>\n",
              "</table>\n",
              "</div>\n",
              "      <button class=\"colab-df-convert\" onclick=\"convertToInteractive('df-adea569f-5ac5-4c36-a576-0b274770ec5e')\"\n",
              "              title=\"Convert this dataframe to an interactive table.\"\n",
              "              style=\"display:none;\">\n",
              "        \n",
              "  <svg xmlns=\"http://www.w3.org/2000/svg\" height=\"24px\"viewBox=\"0 0 24 24\"\n",
              "       width=\"24px\">\n",
              "    <path d=\"M0 0h24v24H0V0z\" fill=\"none\"/>\n",
              "    <path d=\"M18.56 5.44l.94 2.06.94-2.06 2.06-.94-2.06-.94-.94-2.06-.94 2.06-2.06.94zm-11 1L8.5 8.5l.94-2.06 2.06-.94-2.06-.94L8.5 2.5l-.94 2.06-2.06.94zm10 10l.94 2.06.94-2.06 2.06-.94-2.06-.94-.94-2.06-.94 2.06-2.06.94z\"/><path d=\"M17.41 7.96l-1.37-1.37c-.4-.4-.92-.59-1.43-.59-.52 0-1.04.2-1.43.59L10.3 9.45l-7.72 7.72c-.78.78-.78 2.05 0 2.83L4 21.41c.39.39.9.59 1.41.59.51 0 1.02-.2 1.41-.59l7.78-7.78 2.81-2.81c.8-.78.8-2.07 0-2.86zM5.41 20L4 18.59l7.72-7.72 1.47 1.35L5.41 20z\"/>\n",
              "  </svg>\n",
              "      </button>\n",
              "      \n",
              "  <style>\n",
              "    .colab-df-container {\n",
              "      display:flex;\n",
              "      flex-wrap:wrap;\n",
              "      gap: 12px;\n",
              "    }\n",
              "\n",
              "    .colab-df-convert {\n",
              "      background-color: #E8F0FE;\n",
              "      border: none;\n",
              "      border-radius: 50%;\n",
              "      cursor: pointer;\n",
              "      display: none;\n",
              "      fill: #1967D2;\n",
              "      height: 32px;\n",
              "      padding: 0 0 0 0;\n",
              "      width: 32px;\n",
              "    }\n",
              "\n",
              "    .colab-df-convert:hover {\n",
              "      background-color: #E2EBFA;\n",
              "      box-shadow: 0px 1px 2px rgba(60, 64, 67, 0.3), 0px 1px 3px 1px rgba(60, 64, 67, 0.15);\n",
              "      fill: #174EA6;\n",
              "    }\n",
              "\n",
              "    [theme=dark] .colab-df-convert {\n",
              "      background-color: #3B4455;\n",
              "      fill: #D2E3FC;\n",
              "    }\n",
              "\n",
              "    [theme=dark] .colab-df-convert:hover {\n",
              "      background-color: #434B5C;\n",
              "      box-shadow: 0px 1px 3px 1px rgba(0, 0, 0, 0.15);\n",
              "      filter: drop-shadow(0px 1px 2px rgba(0, 0, 0, 0.3));\n",
              "      fill: #FFFFFF;\n",
              "    }\n",
              "  </style>\n",
              "\n",
              "      <script>\n",
              "        const buttonEl =\n",
              "          document.querySelector('#df-adea569f-5ac5-4c36-a576-0b274770ec5e button.colab-df-convert');\n",
              "        buttonEl.style.display =\n",
              "          google.colab.kernel.accessAllowed ? 'block' : 'none';\n",
              "\n",
              "        async function convertToInteractive(key) {\n",
              "          const element = document.querySelector('#df-adea569f-5ac5-4c36-a576-0b274770ec5e');\n",
              "          const dataTable =\n",
              "            await google.colab.kernel.invokeFunction('convertToInteractive',\n",
              "                                                     [key], {});\n",
              "          if (!dataTable) return;\n",
              "\n",
              "          const docLinkHtml = 'Like what you see? Visit the ' +\n",
              "            '<a target=\"_blank\" href=https://colab.research.google.com/notebooks/data_table.ipynb>data table notebook</a>'\n",
              "            + ' to learn more about interactive tables.';\n",
              "          element.innerHTML = '';\n",
              "          dataTable['output_type'] = 'display_data';\n",
              "          await google.colab.output.renderOutput(dataTable, element);\n",
              "          const docLink = document.createElement('div');\n",
              "          docLink.innerHTML = docLinkHtml;\n",
              "          element.appendChild(docLink);\n",
              "        }\n",
              "      </script>\n",
              "    </div>\n",
              "  </div>\n",
              "  "
            ]
          },
          "metadata": {},
          "execution_count": 45
        }
      ]
    }
  ],
  "metadata": {
    "colab": {
      "name": "GSB 545 Lab 4",
      "provenance": [],
      "mount_file_id": "1DQzX5FgTS9rkpqv9qj3WeIKdq92Ycg7o",
      "authorship_tag": "ABX9TyP1pHbIgCgQS4vDXCjuDan1",
      "include_colab_link": true
    },
    "kernelspec": {
      "display_name": "Python 3",
      "name": "python3"
    },
    "language_info": {
      "name": "python"
    }
  },
  "nbformat": 4,
  "nbformat_minor": 0
}